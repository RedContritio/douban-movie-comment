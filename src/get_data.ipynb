{
 "cells": [
  {
   "cell_type": "code",
   "execution_count": null,
   "outputs": [],
   "source": [
    "import os\n",
    "import requests\n",
    "import json\n",
    "import pandas as pd\n",
    "import re\n",
    "import copy\n",
    "import time\n",
    "import random\n",
    "from typing import List\n",
    "from objectss import movie, comment\n"
   ],
   "metadata": {
    "collapsed": false,
    "pycharm": {
     "name": "#%%\n"
    }
   }
  },
  {
   "cell_type": "code",
   "execution_count": null,
   "outputs": [],
   "source": [
    "headers={\n",
    "    'User-Agent': 'Mozilla/5.0 (Windows NT 10.0; Win64; x64) AppleWebKit/537.36 (KHTML, like Gecko) Chrome/99.0.4844.74 Safari/537.36 Edg/99.0.1150.55',\n",
    "    'cookie': 'douban-fav-remind=1; gr_user_id=430d4823-0bb8-4329-adba-4333db071744; _ga=GA1.1.1595394736.1611848456; _ga_RXNMP372GL=GS1.1.1637919254.1.1.1637921082.0; viewed=\"26340138_1822780_21371175_30276702_3393056_26901177_26110579_30465903\"; bid=5q98-_Us4Sw; __gads=ID=a50462eb29c4d08e-2299ccaa64d100ff:T=1648378880:RT=1648378880:S=ALNI_MaFvH7_ymas_6_imHe2djV094YY4A; ll=\"118378\"; __gpi=UID=000004a04f2f7458:T=1649398885:RT=1649398885:S=ALNI_MYENVr1Ij1B6mPh6eTj0Hf0LaLVtg; __utmz=30149280.1649405301.22.13.utmcsr=baidu|utmccn=(organic)|utmcmd=organic; __utma=30149280.1595394736.1611848456.1649405301.1649424095.23; __utmc=30149280; __utmt=1; __utmb=30149280.1.10.1649424095; ap_v=0,6.0'}"
   ],
   "metadata": {
    "collapsed": false,
    "pycharm": {
     "name": "#%%\n"
    }
   }
  },
  {
   "cell_type": "code",
   "execution_count": null,
   "outputs": [],
   "source": [
    "MOVIE_SEARCH_BASE_PATH = 'https://movie.douban.com/j/search_subjects'\n",
    "\n",
    "def generate_movie_get_parameters(page_start: int = 0, page_limit: int = 220, sort: str = 'recommend', tag: str = '热门', type: str = 'movie'):\n",
    "    return {\n",
    "        'type': type,\n",
    "        'tag': tag,\n",
    "        'sort': sort,\n",
    "        'page_limit': page_limit,\n",
    "        'page_start': page_start\n",
    "    }"
   ],
   "metadata": {
    "collapsed": false,
    "pycharm": {
     "name": "#%%\n"
    }
   }
  },
  {
   "cell_type": "code",
   "execution_count": null,
   "outputs": [],
   "source": [
    "res = requests.get(MOVIE_SEARCH_BASE_PATH, params=generate_movie_get_parameters(), headers=headers)"
   ],
   "metadata": {
    "collapsed": false,
    "pycharm": {
     "name": "#%%\n"
    }
   }
  },
  {
   "cell_type": "code",
   "execution_count": null,
   "outputs": [],
   "source": [
    "a=json.loads(res.text)"
   ],
   "metadata": {
    "collapsed": false,
    "pycharm": {
     "name": "#%%\n"
    }
   }
  },
  {
   "cell_type": "code",
   "execution_count": null,
   "outputs": [],
   "source": [
    "iplist=[]\n",
    "with open('../data/ipp.txt')as f:\n",
    "    iplist=f.readlines()\n",
    "\n",
    "def getip():\n",
    "    proxy=iplist[random.randint(0,len(iplist)-1)]\n",
    "    proxy=proxy.replace('\\n','')\n",
    "    proxies={'http':'http://'+str(proxy)}\n",
    "    return proxies\n",
    "\n",
    "def get_movie_comment_base_path(id: int) -> str:\n",
    "    return f'https://movie.douban.com/subject/{id}/comments?start=0&limit=200&status=P&sort=new_score'\n",
    "\n",
    "def generate_movie_get_parameters(start: int = 0, limit: int = 20, sort: str = 'new_score', status: str = 'P'):\n",
    "    return {\n",
    "        start: start,\n",
    "        limit: limit,\n",
    "        sort: sort,\n",
    "        status: status\n",
    "    }"
   ],
   "metadata": {
    "collapsed": false,
    "pycharm": {
     "name": "#%%\n"
    }
   }
  },
  {
   "cell_type": "code",
   "execution_count": null,
   "outputs": [],
   "source": [
    "#response=requests.get(base_url,headers=headers)\n",
    "#\n",
    "#html=response.text\n",
    "## res 解析需要 beautifulsoup4\n"
   ],
   "metadata": {
    "collapsed": false,
    "pycharm": {
     "name": "#%%\n"
    }
   }
  },
  {
   "cell_type": "code",
   "execution_count": null,
   "outputs": [],
   "source": [
    "movie0 = [0]*3\n",
    "Movie0 = []\n",
    "comment0 = [0] * 5\n",
    "Comment0 = []\n",
    "\n",
    "def download_movies() -> List[movie.Movie]:\n",
    "    for i in range(220):\n",
    "        mov_id = a[\"subjects\"][i][\"id\"]\n",
    "        mov_title = a[\"subjects\"][i][\"title\"]\n",
    "        mov_rate = a[\"subjects\"][i][\"rate\"]\n",
    "\n",
    "        movie0[0] = mov_id\n",
    "        movie0[1] = mov_title\n",
    "        movie0[2] = mov_rate\n",
    "        Movie0.append(copy.deepcopy(movie0))\n",
    "    return Movie0"
   ],
   "metadata": {
    "collapsed": false,
    "pycharm": {
     "name": "#%%\n"
    }
   }
  },
  {
   "cell_type": "code",
   "execution_count": null,
   "outputs": [],
   "source": [
    "DATA_BASE_DIR = os.path.join('..', 'data')\n",
    "# maybe consider csv\n",
    "DATA_TXT_PATH = os.path.join(DATA_BASE_DIR, 'movie.csv')\n",
    "DATA_TXT_PATH2 = os.path.join(DATA_BASE_DIR, 'comment.csv')\n",
    "if not os.path.exists(DATA_BASE_DIR):\n",
    "    os.mkdir(DATA_BASE_DIR)"
   ],
   "metadata": {
    "collapsed": false,
    "pycharm": {
     "name": "#%%\n"
    }
   }
  },
  {
   "cell_type": "code",
   "execution_count": null,
   "outputs": [],
   "source": [
    "mov0=download_movies()\n",
    "def download_comments() -> List[comment.ShortComment]:\n",
    "    for i in range(220):\n",
    "        time.sleep(random.randint(3,5))\n",
    "        res = requests.get(get_movie_comment_base_path(a[\"subjects\"][i][\"id\"]),\n",
    "                           params=generate_movie_get_parameters(), proxies=getip(), headers=headers)\n",
    "        res.encoding = 'utf-8'\n",
    "        html = res.text\n",
    "\n",
    "        com_movie_id = a[\"subjects\"][i][\"id\"]\n",
    "        com_user_id = re.compile('class=\"\">(.*?)</a>')\n",
    "        url_user_id = com_user_id.findall(html)\n",
    "        com_rate = re.compile('title=\"(.*?)\"></span>')\n",
    "        url_rate = com_rate.findall(html)\n",
    "        com_time = re.compile('<span class=\"comment-time \" title=\"(.*?)\">')\n",
    "        url_time = com_time.findall(html)\n",
    "        com_content = re.compile('<span class=\"short\">(.*?)</span>')\n",
    "        url_content = com_content.findall(html)\n",
    "\n",
    "        print(i)\n",
    "        c=len(url_content)\n",
    "        if c>105:\n",
    "            for k in range(105):\n",
    "                comment0[0]=com_movie_id\n",
    "                comment0[1]=url_user_id[k]\n",
    "\n",
    "                if url_rate[k] == '力荐':\n",
    "                    comment0[2] = 5\n",
    "                elif url_rate[k] == '推荐':\n",
    "                    comment0[2] = 4\n",
    "                elif url_rate[k] == '还行':\n",
    "                    comment0[2] = 3\n",
    "                elif url_rate[k] == '较差':\n",
    "                    comment0[2] = 2\n",
    "                else:\n",
    "                    comment0[2] = 1\n",
    "                comment0[3] = url_time[k]\n",
    "                url_content[k] = url_content[k].replace(',',' ')\n",
    "                comment0[4] = url_content[k]\n",
    "                Comment0.append(copy.deepcopy(comment0))\n",
    "        else:\n",
    "            mov0.pop(i)\n",
    "\n",
    "    return Comment0"
   ],
   "metadata": {
    "collapsed": false,
    "pycharm": {
     "name": "#%%\n"
    }
   }
  },
  {
   "cell_type": "code",
   "execution_count": null,
   "outputs": [],
   "source": [
    "Com=[]\n",
    "for i in download_comments():\n",
    "    Com.append(copy.deepcopy(i))\n",
    "dataframe = pd.DataFrame(Com)\n",
    "dataframe.to_csv(DATA_TXT_PATH2,index = False,header=['movie_id','user_id','rate','time','content'])"
   ],
   "metadata": {
    "collapsed": false,
    "pycharm": {
     "name": "#%%\n"
    }
   }
  },
  {
   "cell_type": "code",
   "execution_count": null,
   "outputs": [],
   "source": [
    "Mov=[]\n",
    "for i in download_movies():\n",
    "    Mov.append(copy.deepcopy(i))\n",
    "dataframe = pd.DataFrame(Mov)\n",
    "dataframe.to_csv(DATA_TXT_PATH,index = False,header=['id','title','rate'])"
   ],
   "metadata": {
    "collapsed": false,
    "pycharm": {
     "name": "#%%\n"
    }
   }
  },
  {
   "cell_type": "code",
   "execution_count": null,
   "outputs": [],
   "source": [
    "if __name__ == '__main__':\n",
    "    print(DATA_BASE_DIR)"
   ],
   "metadata": {
    "collapsed": false,
    "pycharm": {
     "name": "#%%\n"
    }
   }
  },
  {
   "cell_type": "code",
   "execution_count": null,
   "outputs": [],
   "source": [],
   "metadata": {
    "collapsed": false,
    "pycharm": {
     "name": "#%%"
    }
   }
  }
 ],
 "metadata": {
  "interpreter": {
   "hash": "798719e834ce2667b284169792ed9be744f500b1bbad4a58ecba241c6661f77e"
  },
  "kernelspec": {
   "display_name": "Python 3",
   "language": "python",
   "name": "python3"
  },
  "language_info": {
   "codemirror_mode": {
    "name": "ipython",
    "version": 3
   },
   "file_extension": ".py",
   "mimetype": "text/x-python",
   "name": "python",
   "nbconvert_exporter": "python",
   "pygments_lexer": "ipython3",
   "version": "3.8.8"
  }
 },
 "nbformat": 4,
 "nbformat_minor": 4
}
