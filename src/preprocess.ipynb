{
 "cells": [
  {
   "cell_type": "code",
   "execution_count": 1,
   "metadata": {},
   "outputs": [],
   "source": [
    "import numpy as np\n",
    "import pandas as pd\n",
    "import random\n",
    "import jieba\n",
    "import os\n",
    "from utils import DATA_PROCESSED_DIR, DATA_W2V_VECTOR_PATH, DATA_W2V_META_PATH, DATA_TEXT_SEQUENCES_PATH, DATA_LABELS_PATH\n",
    "import tensorflow as tf\n",
    "from tensorflow.keras import layers\n",
    "from utils import CustomIterator\n",
    "import tqdm\n",
    "import math\n",
    "import pickle\n",
    "\n",
    "from typing import List"
   ]
  },
  {
   "cell_type": "code",
   "execution_count": 2,
   "metadata": {},
   "outputs": [],
   "source": [
    "%load_ext tensorboard"
   ]
  },
  {
   "cell_type": "code",
   "execution_count": 3,
   "metadata": {},
   "outputs": [],
   "source": [
    "SEED = 42\n",
    "AUTOTUNE = tf.data.AUTOTUNE"
   ]
  },
  {
   "cell_type": "code",
   "execution_count": 4,
   "metadata": {},
   "outputs": [
    {
     "data": {
      "text/html": [
       "<div>\n",
       "<style scoped>\n",
       "    .dataframe tbody tr th:only-of-type {\n",
       "        vertical-align: middle;\n",
       "    }\n",
       "\n",
       "    .dataframe tbody tr th {\n",
       "        vertical-align: top;\n",
       "    }\n",
       "\n",
       "    .dataframe thead th {\n",
       "        text-align: right;\n",
       "    }\n",
       "</style>\n",
       "<table border=\"1\" class=\"dataframe\">\n",
       "  <thead>\n",
       "    <tr style=\"text-align: right;\">\n",
       "      <th></th>\n",
       "      <th>movie_id</th>\n",
       "      <th>user_id</th>\n",
       "      <th>rate</th>\n",
       "      <th>time</th>\n",
       "      <th>content</th>\n",
       "    </tr>\n",
       "  </thead>\n",
       "  <tbody>\n",
       "    <tr>\n",
       "      <th>0</th>\n",
       "      <td>26825482</td>\n",
       "      <td>寒狐传媒</td>\n",
       "      <td>4</td>\n",
       "      <td>2022-02-24 08:15:44</td>\n",
       "      <td>标准美国科幻大片。参考影片《世界末日 Armageddon (1998)》</td>\n",
       "    </tr>\n",
       "    <tr>\n",
       "      <th>1</th>\n",
       "      <td>26825482</td>\n",
       "      <td>BURKARD</td>\n",
       "      <td>3</td>\n",
       "      <td>2022-02-06 22:00:29</td>\n",
       "      <td>降智😅 地震把一屋子领导砸死了我属实没想到</td>\n",
       "    </tr>\n",
       "    <tr>\n",
       "      <th>2</th>\n",
       "      <td>26825482</td>\n",
       "      <td>Hachiko</td>\n",
       "      <td>3</td>\n",
       "      <td>2022-03-29 17:49:46</td>\n",
       "      <td>顶着叛国罪的风险无比坚信前妻，这种还会离婚？</td>\n",
       "    </tr>\n",
       "    <tr>\n",
       "      <th>3</th>\n",
       "      <td>26825482</td>\n",
       "      <td>十一子</td>\n",
       "      <td>3</td>\n",
       "      <td>2022-02-06 07:40:39</td>\n",
       "      <td>月亮果然还是家园，不过这下是真的变成人类共识了。所有的惊奇点、感动点和转折点都在可预计范围内...</td>\n",
       "    </tr>\n",
       "    <tr>\n",
       "      <th>4</th>\n",
       "      <td>26825482</td>\n",
       "      <td>VincentP</td>\n",
       "      <td>3</td>\n",
       "      <td>2022-01-27 10:33:21</td>\n",
       "      <td>我的天，剧情真的好阴谋论，但是还算是能自圆其说。埃默里奇真的20年如一日的毁地球，还是他之前...</td>\n",
       "    </tr>\n",
       "  </tbody>\n",
       "</table>\n",
       "</div>"
      ],
      "text/plain": [
       "   movie_id   user_id  rate                 time  \\\n",
       "0  26825482      寒狐传媒     4  2022-02-24 08:15:44   \n",
       "1  26825482   BURKARD     3  2022-02-06 22:00:29   \n",
       "2  26825482   Hachiko     3  2022-03-29 17:49:46   \n",
       "3  26825482       十一子     3  2022-02-06 07:40:39   \n",
       "4  26825482  VincentP     3  2022-01-27 10:33:21   \n",
       "\n",
       "                                             content  \n",
       "0              标准美国科幻大片。参考影片《世界末日 Armageddon (1998)》  \n",
       "1                              降智😅 地震把一屋子领导砸死了我属实没想到  \n",
       "2                             顶着叛国罪的风险无比坚信前妻，这种还会离婚？  \n",
       "3  月亮果然还是家园，不过这下是真的变成人类共识了。所有的惊奇点、感动点和转折点都在可预计范围内...  \n",
       "4  我的天，剧情真的好阴谋论，但是还算是能自圆其说。埃默里奇真的20年如一日的毁地球，还是他之前...  "
      ]
     },
     "execution_count": 4,
     "metadata": {},
     "output_type": "execute_result"
    }
   ],
   "source": [
    "# raw_dataset = pd.read_csv('../data/preset/minibatch.csv')\n",
    "raw_dataset = pd.read_csv('../data/comment.csv')\n",
    "\n",
    "raw_dataset.head()"
   ]
  },
  {
   "cell_type": "code",
   "execution_count": 5,
   "metadata": {},
   "outputs": [
    {
     "name": "stdout",
     "output_type": "stream",
     "text": [
      "length: 21942\n"
     ]
    },
    {
     "data": {
      "text/html": [
       "<div>\n",
       "<style scoped>\n",
       "    .dataframe tbody tr th:only-of-type {\n",
       "        vertical-align: middle;\n",
       "    }\n",
       "\n",
       "    .dataframe tbody tr th {\n",
       "        vertical-align: top;\n",
       "    }\n",
       "\n",
       "    .dataframe thead th {\n",
       "        text-align: right;\n",
       "    }\n",
       "</style>\n",
       "<table border=\"1\" class=\"dataframe\">\n",
       "  <thead>\n",
       "    <tr style=\"text-align: right;\">\n",
       "      <th></th>\n",
       "      <th>index</th>\n",
       "      <th>movie_id</th>\n",
       "      <th>user_id</th>\n",
       "      <th>rate</th>\n",
       "      <th>time</th>\n",
       "      <th>content</th>\n",
       "    </tr>\n",
       "  </thead>\n",
       "  <tbody>\n",
       "    <tr>\n",
       "      <th>0</th>\n",
       "      <td>0</td>\n",
       "      <td>26825482</td>\n",
       "      <td>寒狐传媒</td>\n",
       "      <td>4</td>\n",
       "      <td>2022-02-24 08:15:44</td>\n",
       "      <td>标准美国科幻大片。参考影片《世界末日 Armageddon (1998)》</td>\n",
       "    </tr>\n",
       "    <tr>\n",
       "      <th>1</th>\n",
       "      <td>1</td>\n",
       "      <td>26825482</td>\n",
       "      <td>BURKARD</td>\n",
       "      <td>3</td>\n",
       "      <td>2022-02-06 22:00:29</td>\n",
       "      <td>降智😅 地震把一屋子领导砸死了我属实没想到</td>\n",
       "    </tr>\n",
       "    <tr>\n",
       "      <th>2</th>\n",
       "      <td>2</td>\n",
       "      <td>26825482</td>\n",
       "      <td>Hachiko</td>\n",
       "      <td>3</td>\n",
       "      <td>2022-03-29 17:49:46</td>\n",
       "      <td>顶着叛国罪的风险无比坚信前妻，这种还会离婚？</td>\n",
       "    </tr>\n",
       "    <tr>\n",
       "      <th>3</th>\n",
       "      <td>3</td>\n",
       "      <td>26825482</td>\n",
       "      <td>十一子</td>\n",
       "      <td>3</td>\n",
       "      <td>2022-02-06 07:40:39</td>\n",
       "      <td>月亮果然还是家园，不过这下是真的变成人类共识了。所有的惊奇点、感动点和转折点都在可预计范围内...</td>\n",
       "    </tr>\n",
       "    <tr>\n",
       "      <th>4</th>\n",
       "      <td>4</td>\n",
       "      <td>26825482</td>\n",
       "      <td>VincentP</td>\n",
       "      <td>3</td>\n",
       "      <td>2022-01-27 10:33:21</td>\n",
       "      <td>我的天，剧情真的好阴谋论，但是还算是能自圆其说。埃默里奇真的20年如一日的毁地球，还是他之前...</td>\n",
       "    </tr>\n",
       "  </tbody>\n",
       "</table>\n",
       "</div>"
      ],
      "text/plain": [
       "   index  movie_id   user_id  rate                 time  \\\n",
       "0      0  26825482      寒狐传媒     4  2022-02-24 08:15:44   \n",
       "1      1  26825482   BURKARD     3  2022-02-06 22:00:29   \n",
       "2      2  26825482   Hachiko     3  2022-03-29 17:49:46   \n",
       "3      3  26825482       十一子     3  2022-02-06 07:40:39   \n",
       "4      4  26825482  VincentP     3  2022-01-27 10:33:21   \n",
       "\n",
       "                                             content  \n",
       "0              标准美国科幻大片。参考影片《世界末日 Armageddon (1998)》  \n",
       "1                              降智😅 地震把一屋子领导砸死了我属实没想到  \n",
       "2                             顶着叛国罪的风险无比坚信前妻，这种还会离婚？  \n",
       "3  月亮果然还是家园，不过这下是真的变成人类共识了。所有的惊奇点、感动点和转折点都在可预计范围内...  \n",
       "4  我的天，剧情真的好阴谋论，但是还算是能自圆其说。埃默里奇真的20年如一日的毁地球，还是他之前...  "
      ]
     },
     "execution_count": 5,
     "metadata": {},
     "output_type": "execute_result"
    }
   ],
   "source": [
    "dataset = raw_dataset.dropna(axis=0).reset_index()\n",
    "\n",
    "print(f'length: {len(dataset)}')\n",
    "dataset.head()"
   ]
  },
  {
   "cell_type": "code",
   "execution_count": 6,
   "metadata": {},
   "outputs": [
    {
     "name": "stderr",
     "output_type": "stream",
     "text": [
      "Building prefix dict from the default dictionary ...\n",
      "Loading model from cache /tmp/jieba.cache\n",
      "Dumping model to file cache /tmp/jieba.cache\n",
      "Dump cache file failed.\n",
      "Traceback (most recent call last):\n",
      "  File \"/data/user18302289/anaconda3/envs/news/lib/python3.7/site-packages/jieba/__init__.py\", line 154, in initialize\n",
      "    _replace_file(fpath, cache_file)\n",
      "PermissionError: [Errno 1] Operation not permitted: '/tmp/tmp1ogic98t' -> '/tmp/jieba.cache'\n",
      "Loading model cost 0.721 seconds.\n",
      "Prefix dict has been built successfully.\n"
     ]
    },
    {
     "name": "stdout",
     "output_type": "stream",
     "text": [
      "68\n"
     ]
    }
   ],
   "source": [
    "def line2words(line: str) -> List[str]:\n",
    "    return list(jieba.cut(line))\n",
    "\n",
    "dataset['words_count'] = dataset['content'].map((lambda x: len(line2words(x))))\n",
    "\n",
    "EXPECT_SENTENSE_LENGTH = math.ceil(dataset['words_count'].quantile(0.75))\n",
    "print(EXPECT_SENTENSE_LENGTH)"
   ]
  },
  {
   "cell_type": "code",
   "execution_count": 7,
   "metadata": {},
   "outputs": [],
   "source": [
    "with open(DATA_LABELS_PATH, 'wb') as f:\n",
    "    pickle.dump(dataset['rate'].values, f)"
   ]
  },
  {
   "cell_type": "code",
   "execution_count": 8,
   "metadata": {},
   "outputs": [
    {
     "name": "stdout",
     "output_type": "stream",
     "text": [
      "66909\n"
     ]
    }
   ],
   "source": [
    "vocab, index = {}, 1\n",
    "vocab['<pad>'] = 0\n",
    "\n",
    "for words in CustomIterator(dataset['content'], line2words):\n",
    "    for word in words:\n",
    "        if word not in vocab:\n",
    "            vocab[word] = index\n",
    "            index += 1\n",
    "\n",
    "vocab_size = len(vocab)\n",
    "inverse_vocab = {index: token for token, index in vocab.items()}\n",
    "print(len(vocab))"
   ]
  },
  {
   "cell_type": "code",
   "execution_count": 9,
   "metadata": {},
   "outputs": [
    {
     "name": "stdout",
     "output_type": "stream",
     "text": [
      "[1, 2, 3, 4, 5, 6, 7, 8, 9, 10, 11, 10, 12, 13, 14, 15]\n"
     ]
    }
   ],
   "source": [
    "def words2sequence(words: List[str], vocab: dict) -> List[int]:\n",
    "    return [vocab[word] for word in words]\n",
    "\n",
    "example_sequence = words2sequence(line2words(dataset.iloc[0]['content']), vocab)\n",
    "print(example_sequence)"
   ]
  },
  {
   "cell_type": "code",
   "execution_count": 10,
   "metadata": {},
   "outputs": [
    {
     "name": "stdout",
     "output_type": "stream",
     "text": [
      "84\n"
     ]
    }
   ],
   "source": [
    "window_size = 3\n",
    "positive_skip_grams, _ = tf.keras.preprocessing.sequence.skipgrams(\n",
    "      example_sequence,\n",
    "      vocabulary_size=vocab_size,\n",
    "      window_size=window_size,\n",
    "      negative_samples=0)\n",
    "\n",
    "print(len(positive_skip_grams))"
   ]
  },
  {
   "cell_type": "code",
   "execution_count": 11,
   "metadata": {},
   "outputs": [
    {
     "name": "stdout",
     "output_type": "stream",
     "text": [
      "(7, 8): (影片, 《)\n",
      "(15, 12): (》, ()\n",
      "(8, 6): (《, 参考)\n",
      "(2, 3): (美国, 科幻)\n",
      "(13, 12): (1998, ()\n"
     ]
    }
   ],
   "source": [
    "for target, context in positive_skip_grams[:5]:\n",
    "  print(f\"({target}, {context}): ({inverse_vocab[target]}, {inverse_vocab[context]})\")"
   ]
  },
  {
   "cell_type": "code",
   "execution_count": 12,
   "metadata": {},
   "outputs": [
    {
     "name": "stdout",
     "output_type": "stream",
     "text": [
      "tf.Tensor([ 960   55 7892  225], shape=(4,), dtype=int64)\n",
      "['全然', '、', '念白', '略微']\n"
     ]
    },
    {
     "name": "stderr",
     "output_type": "stream",
     "text": [
      "2022-04-11 11:49:11.806198: I tensorflow/core/platform/cpu_feature_guard.cc:151] This TensorFlow binary is optimized with oneAPI Deep Neural Network Library (oneDNN) to use the following CPU instructions in performance-critical operations:  AVX2 AVX512F FMA\n",
      "To enable them in other operations, rebuild TensorFlow with the appropriate compiler flags.\n",
      "2022-04-11 11:49:14.018176: I tensorflow/core/common_runtime/gpu/gpu_device.cc:1525] Created device /job:localhost/replica:0/task:0/device:GPU:0 with 8665 MB memory:  -> device: 0, name: NVIDIA GeForce RTX 3080 Ti, pci bus id: 0000:18:00.0, compute capability: 8.6\n",
      "2022-04-11 11:49:14.019241: I tensorflow/core/common_runtime/gpu/gpu_device.cc:1525] Created device /job:localhost/replica:0/task:0/device:GPU:1 with 8961 MB memory:  -> device: 1, name: NVIDIA GeForce RTX 3080 Ti, pci bus id: 0000:3b:00.0, compute capability: 8.6\n",
      "2022-04-11 11:49:14.020046: I tensorflow/core/common_runtime/gpu/gpu_device.cc:1525] Created device /job:localhost/replica:0/task:0/device:GPU:2 with 1061 MB memory:  -> device: 2, name: NVIDIA GeForce RTX 3080 Ti, pci bus id: 0000:86:00.0, compute capability: 8.6\n",
      "2022-04-11 11:49:14.020994: I tensorflow/core/common_runtime/gpu/gpu_device.cc:1525] Created device /job:localhost/replica:0/task:0/device:GPU:3 with 10098 MB memory:  -> device: 3, name: NVIDIA GeForce RTX 3080 Ti, pci bus id: 0000:af:00.0, compute capability: 8.6\n"
     ]
    }
   ],
   "source": [
    "# Get target and context words for one positive skip-gram.\n",
    "target_word, context_word = positive_skip_grams[0]\n",
    "\n",
    "# Set the number of negative samples per positive context.\n",
    "num_ns = 4\n",
    "\n",
    "context_class = tf.reshape(tf.constant(context_word, dtype=\"int64\"), (1, 1))\n",
    "negative_sampling_candidates, _, _ = tf.random.log_uniform_candidate_sampler(\n",
    "    true_classes=context_class,  # class that should be sampled as 'positive'\n",
    "    num_true=1,  # each positive skip-gram has 1 positive context class\n",
    "    num_sampled=num_ns,  # number of negative context words to sample\n",
    "    unique=True,  # all the negative samples should be unique\n",
    "    range_max=vocab_size,  # pick index of the samples from [0, vocab_size]\n",
    "    seed=SEED,  # seed for reproducibility\n",
    "    name=\"negative_sampling\"  # name of this operation\n",
    ")\n",
    "print(negative_sampling_candidates)\n",
    "print([inverse_vocab[index.numpy()] for index in negative_sampling_candidates][:5])"
   ]
  },
  {
   "cell_type": "code",
   "execution_count": 13,
   "metadata": {},
   "outputs": [],
   "source": [
    "# Generates skip-gram pairs with negative sampling for a list of sequences\n",
    "# (int-encoded sentences) based on window size, number of negative samples\n",
    "# and vocabulary size.\n",
    "def generate_training_data(sequences, window_size, num_ns, vocab_size, seed):\n",
    "  # Elements of each training example are appended to these lists.\n",
    "  targets, contexts, labels = [], [], []\n",
    "\n",
    "  # Build the sampling table for `vocab_size` tokens.\n",
    "  sampling_table = tf.keras.preprocessing.sequence.make_sampling_table(vocab_size)\n",
    "\n",
    "  # Iterate over all sequences (sentences) in the dataset.\n",
    "  for sequence in tqdm.tqdm(sequences):\n",
    "\n",
    "    # Generate positive skip-gram pairs for a sequence (sentence).\n",
    "    positive_skip_grams, _ = tf.keras.preprocessing.sequence.skipgrams(\n",
    "          sequence,\n",
    "          vocabulary_size=vocab_size,\n",
    "          sampling_table=sampling_table,\n",
    "          window_size=window_size,\n",
    "          negative_samples=0)\n",
    "\n",
    "    # Iterate over each positive skip-gram pair to produce training examples\n",
    "    # with a positive context word and negative samples.\n",
    "    for target_word, context_word in positive_skip_grams:\n",
    "      context_class = tf.expand_dims(\n",
    "          tf.constant([context_word], dtype=\"int64\"), 1)\n",
    "      negative_sampling_candidates, _, _ = tf.random.log_uniform_candidate_sampler(\n",
    "          true_classes=context_class,\n",
    "          num_true=1,\n",
    "          num_sampled=num_ns,\n",
    "          unique=True,\n",
    "          range_max=vocab_size,\n",
    "          seed=seed,\n",
    "          name=\"negative_sampling\")\n",
    "\n",
    "      # Build context and label vectors (for one target word)\n",
    "      negative_sampling_candidates = tf.expand_dims(\n",
    "          negative_sampling_candidates, 1)\n",
    "\n",
    "      context = tf.concat([context_class, negative_sampling_candidates], 0)\n",
    "      label = tf.constant([1] + [0]*num_ns, dtype=\"int64\")\n",
    "\n",
    "      # Append each element from the training example to global lists.\n",
    "      targets.append(target_word)\n",
    "      contexts.append(context)\n",
    "      labels.append(label)\n",
    "\n",
    "  return targets, contexts, labels"
   ]
  },
  {
   "cell_type": "code",
   "execution_count": 14,
   "metadata": {},
   "outputs": [],
   "source": [
    "TEXT_DATASET_PATH = os.path.join(DATA_PROCESSED_DIR, 'text_ds.tsv')\n",
    "\n",
    "with open(DATA_TEXT_SEQUENCES_PATH, 'wb') as f:\n",
    "  pickle.dump([line2words(line) for line in CustomIterator(dataset['content'])], f)\n",
    "\n",
    "with open(TEXT_DATASET_PATH, 'w') as f:\n",
    "    for line in CustomIterator(dataset['content']):\n",
    "        print('\\t'.join(line2words(line)), file=f)\n",
    "\n",
    "text_ds = tf.data.TextLineDataset(TEXT_DATASET_PATH)"
   ]
  },
  {
   "cell_type": "code",
   "execution_count": 15,
   "metadata": {},
   "outputs": [],
   "source": [
    "# Now, create a custom standardization function to lowercase the text and\n",
    "# remove punctuation.\n",
    "# def custom_standardization(input_data):\n",
    "#   return line2words(input_data)\n",
    "\n",
    "\n",
    "# Define the vocabulary size and the number of words in a sequence.\n",
    "vocab_size = 4096\n",
    "# sequence_length = 10\n",
    "sequence_length = EXPECT_SENTENSE_LENGTH\n",
    "\n",
    "# Use the `TextVectorization` layer to normalize, split, and map strings to\n",
    "# integers. Set the `output_sequence_length` length to pad all samples to the\n",
    "# same length.\n",
    "vectorize_layer = layers.TextVectorization(\n",
    "    # standardize=custom_standardization,\n",
    "    max_tokens=vocab_size,\n",
    "    output_mode='int',\n",
    "    output_sequence_length=sequence_length)"
   ]
  },
  {
   "cell_type": "code",
   "execution_count": 16,
   "metadata": {},
   "outputs": [],
   "source": [
    "vectorize_layer.adapt(text_ds.batch(1024))"
   ]
  },
  {
   "cell_type": "code",
   "execution_count": 17,
   "metadata": {},
   "outputs": [
    {
     "name": "stdout",
     "output_type": "stream",
     "text": [
      "['', '[UNK]', '，', '的', '。', '了', '是', '在', '也', '和', '我', '都', '电影', '、', '不', '有', '就', '很', '人', '！']\n"
     ]
    }
   ],
   "source": [
    "# Save the created vocabulary for reference.\n",
    "inverse_vocab = vectorize_layer.get_vocabulary()\n",
    "print(inverse_vocab[:20])"
   ]
  },
  {
   "cell_type": "code",
   "execution_count": 18,
   "metadata": {},
   "outputs": [],
   "source": [
    "# Vectorize the data in text_ds.\n",
    "text_vector_ds = text_ds.batch(1024).prefetch(AUTOTUNE).map(vectorize_layer).unbatch()"
   ]
  },
  {
   "cell_type": "code",
   "execution_count": 19,
   "metadata": {},
   "outputs": [
    {
     "name": "stdout",
     "output_type": "stream",
     "text": [
      "21943\n",
      "[1274  256  519 1248    4 3910  123   21    1    1    1   22    0    0\n",
      "    0    0    0    0    0    0    0    0    0    0    0    0    0    0\n",
      "    0    0    0    0    0    0    0    0    0    0    0    0    0    0\n",
      "    0    0    0    0    0    0    0    0    0    0    0    0    0    0\n",
      "    0    0    0    0    0    0    0    0    0    0    0    0] => ['标准', '美国', '科幻', '大片', '。', '参考', '影片', '《', '[UNK]', '[UNK]', '[UNK]', '》', '', '', '', '', '', '', '', '', '', '', '', '', '', '', '', '', '', '', '', '', '', '', '', '', '', '', '', '', '', '', '', '', '', '', '', '', '', '', '', '', '', '', '', '', '', '', '', '', '', '', '', '', '', '', '', '']\n",
      "[3954 1991    1   62  177    1    1    1    5   10 2624  380    0    0\n",
      "    0    0    0    0    0    0    0    0    0    0    0    0    0    0\n",
      "    0    0    0    0    0    0    0    0    0    0    0    0    0    0\n",
      "    0    0    0    0    0    0    0    0    0    0    0    0    0    0\n",
      "    0    0    0    0    0    0    0    0    0    0    0    0] => ['降智', '😅', '[UNK]', '把', '一', '[UNK]', '[UNK]', '[UNK]', '了', '我', '属实', '没想到', '', '', '', '', '', '', '', '', '', '', '', '', '', '', '', '', '', '', '', '', '', '', '', '', '', '', '', '', '', '', '', '', '', '', '', '', '', '', '', '', '', '', '', '', '', '', '', '', '', '', '', '', '', '', '', '']\n",
      "[   1   72    1    3    1  951    1    1    2   87 2181 3032   24    0\n",
      "    0    0    0    0    0    0    0    0    0    0    0    0    0    0\n",
      "    0    0    0    0    0    0    0    0    0    0    0    0    0    0\n",
      "    0    0    0    0    0    0    0    0    0    0    0    0    0    0\n",
      "    0    0    0    0    0    0    0    0    0    0    0    0] => ['[UNK]', '着', '[UNK]', '的', '[UNK]', '无比', '[UNK]', '[UNK]', '，', '这种', '还会', '离婚', '？', '', '', '', '', '', '', '', '', '', '', '', '', '', '', '', '', '', '', '', '', '', '', '', '', '', '', '', '', '', '', '', '', '', '', '', '', '', '', '', '', '', '', '', '', '', '', '', '', '', '', '', '', '', '', '']\n",
      "[   1  658   34    1    2  131    1    6   47  326  239    1    5    4\n",
      "  194    3    1  181   13  306  181    9    1   11    7  219    1 3457\n",
      "  641    2  937    7    1 1251 3495  114   12 1107    3  166  273  312\n",
      "    9    1    3  273  118    4   23  165   41  196 2317   31 3034    2\n",
      " 1064    1    1 2963   79   28   45   82   87   93  486   52] => ['[UNK]', '果然', '还是', '[UNK]', '，', '不过', '[UNK]', '是', '真的', '变成', '人类', '[UNK]', '了', '。', '所有', '的', '[UNK]', '点', '、', '感动', '点', '和', '[UNK]', '都', '在', '可', '[UNK]', '范围', '内', '，', '包括', '在', '[UNK]', '兄弟', '投资', '下', '电影', '加入', '的', '一些', '中国', '元素', '和', '[UNK]', '的', '中国', '演员', '。', '看', '完', '就是', '比较', '平静', '与', '疲惫', '，', '符合', '[UNK]', '[UNK]', '所说', '：', '“', '他', '喜欢', '这种', '从', '电影院', '里']\n",
      "[  10    3 1280    2   68   47   32    1    2   81   33  389   48    1\n",
      "    4    1   47  837  200    1    3 2483 1228    2   34   45  394    3\n",
      " 2481  142    3  936    2  102  468    1   13 3050    1   13   51   70\n",
      "  481    1 2195  780    1    4 1360    6 1472  857    5    2  468   16\n",
      "  857    5    2  921  337  441   34  196 1445    4   81 1272] => ['我', '的', '天', '，', '剧情', '真的', '好', '[UNK]', '，', '但是', '还', '算是', '能', '[UNK]', '。', '[UNK]', '真的', '20', '年', '[UNK]', '的', '毁', '地球', '，', '还是', '他', '之前', '的', '灾难片', '一样', '的', '味道', '，', '用', '特效', '[UNK]', '、', '政府', '[UNK]', '、', '最后', '要', '靠', '[UNK]', '小人物', '拯救', '[UNK]', '。', '优点', '是', '成本', '到位', '了', '，', '特效', '就', '到位', '了', '，', '灾难', '场面', '看着', '还是', '比较', '爽', '。', '但是', '缺点']\n"
     ]
    }
   ],
   "source": [
    "sequences = list(text_vector_ds.as_numpy_iterator())\n",
    "print(len(sequences))\n",
    "\n",
    "for seq in sequences[:5]:\n",
    "  print(f\"{seq} => {[inverse_vocab[i] for i in seq]}\")"
   ]
  },
  {
   "cell_type": "code",
   "execution_count": 20,
   "metadata": {},
   "outputs": [
    {
     "name": "stderr",
     "output_type": "stream",
     "text": [
      "100%|██████████| 21943/21943 [01:56<00:00, 188.94it/s]\n"
     ]
    },
    {
     "name": "stdout",
     "output_type": "stream",
     "text": [
      "\n",
      "\n",
      "targets.shape: (316679,)\n",
      "contexts.shape: (316679, 5)\n",
      "labels.shape: (316679, 5)\n"
     ]
    }
   ],
   "source": [
    "targets, contexts, labels = generate_training_data(\n",
    "    sequences=sequences,\n",
    "    window_size=2,\n",
    "    num_ns=4,\n",
    "    vocab_size=vocab_size,\n",
    "    seed=SEED)\n",
    "\n",
    "targets = np.array(targets)\n",
    "contexts = np.array(contexts)[:,:,0]\n",
    "labels = np.array(labels)\n",
    "\n",
    "print('\\n')\n",
    "print(f\"targets.shape: {targets.shape}\")\n",
    "print(f\"contexts.shape: {contexts.shape}\")\n",
    "print(f\"labels.shape: {labels.shape}\")"
   ]
  },
  {
   "cell_type": "markdown",
   "metadata": {},
   "source": [
    "## 训练 word2vec"
   ]
  },
  {
   "cell_type": "code",
   "execution_count": 21,
   "metadata": {},
   "outputs": [],
   "source": [
    "BATCH_SIZE = 1024\n",
    "BUFFER_SIZE = 10000\n",
    "\n",
    "dataset = tf.data.Dataset.from_tensor_slices(((targets, contexts), labels))\n",
    "dataset = dataset.shuffle(BUFFER_SIZE).batch(BATCH_SIZE)\n",
    "# dataset = dataset.shuffle(BUFFER_SIZE).batch(BATCH_SIZE, drop_remainder=True)\n",
    "dataset = dataset.cache().prefetch(buffer_size=AUTOTUNE)\n",
    "\n",
    "# print(dataset)"
   ]
  },
  {
   "cell_type": "code",
   "execution_count": 22,
   "metadata": {},
   "outputs": [
    {
     "name": "stdout",
     "output_type": "stream",
     "text": [
      "<PrefetchDataset element_spec=((TensorSpec(shape=(None,), dtype=tf.int64, name=None), TensorSpec(shape=(None, 5), dtype=tf.int64, name=None)), TensorSpec(shape=(None, 5), dtype=tf.int64, name=None))>\n"
     ]
    }
   ],
   "source": [
    "dataset = dataset.cache().prefetch(buffer_size=AUTOTUNE)\n",
    "print(dataset)"
   ]
  },
  {
   "cell_type": "code",
   "execution_count": 23,
   "metadata": {},
   "outputs": [],
   "source": [
    "class Word2Vec(tf.keras.Model):\n",
    "  def __init__(self, vocab_size, embedding_dim):\n",
    "    super(Word2Vec, self).__init__()\n",
    "    self.target_embedding = layers.Embedding(vocab_size,\n",
    "                                      embedding_dim,\n",
    "                                      input_length=1,\n",
    "                                      name=\"w2v_embedding\")\n",
    "    self.context_embedding = layers.Embedding(vocab_size,\n",
    "                                       embedding_dim,\n",
    "                                       input_length=num_ns+1)\n",
    "\n",
    "  def call(self, pair):\n",
    "    target, context = pair\n",
    "    # target: (batch, dummy?)  # The dummy axis doesn't exist in TF2.7+\n",
    "    # context: (batch, context)\n",
    "    if len(target.shape) == 2:\n",
    "      target = tf.squeeze(target, axis=1)\n",
    "    # target: (batch,)\n",
    "    word_emb = self.target_embedding(target)\n",
    "    # word_emb: (batch, embed)\n",
    "    context_emb = self.context_embedding(context)\n",
    "    # context_emb: (batch, context, embed)\n",
    "    dots = tf.einsum('be,bce->bc', word_emb, context_emb)\n",
    "    # dots: (batch, context)\n",
    "    return dots"
   ]
  },
  {
   "cell_type": "code",
   "execution_count": 24,
   "metadata": {},
   "outputs": [],
   "source": [
    "embedding_dim = 128\n",
    "\n",
    "word2vec = Word2Vec(vocab_size, embedding_dim)\n",
    "word2vec.compile(optimizer='adam',\n",
    "                 loss=tf.keras.losses.CategoricalCrossentropy(from_logits=True),\n",
    "                 metrics=['accuracy'], run_eagerly=True)"
   ]
  },
  {
   "cell_type": "code",
   "execution_count": 25,
   "metadata": {},
   "outputs": [],
   "source": [
    "tensorboard_callback = tf.keras.callbacks.TensorBoard(log_dir=\"logs\")"
   ]
  },
  {
   "cell_type": "code",
   "execution_count": 26,
   "metadata": {},
   "outputs": [
    {
     "data": {
      "text/plain": [
       "<PrefetchDataset element_spec=((TensorSpec(shape=(None,), dtype=tf.int64, name=None), TensorSpec(shape=(None, 5), dtype=tf.int64, name=None)), TensorSpec(shape=(None, 5), dtype=tf.int64, name=None))>"
      ]
     },
     "execution_count": 26,
     "metadata": {},
     "output_type": "execute_result"
    }
   ],
   "source": [
    "dataset"
   ]
  },
  {
   "cell_type": "code",
   "execution_count": 27,
   "metadata": {},
   "outputs": [
    {
     "name": "stdout",
     "output_type": "stream",
     "text": [
      "Epoch 1/200\n",
      "310/310 [==============================] - 5s 14ms/step - loss: 1.5164 - accuracy: 0.3706\n",
      "Epoch 2/200\n",
      "310/310 [==============================] - 4s 14ms/step - loss: 1.4019 - accuracy: 0.4287\n",
      "Epoch 3/200\n",
      "310/310 [==============================] - 4s 14ms/step - loss: 1.3463 - accuracy: 0.4656\n",
      "Epoch 4/200\n",
      "310/310 [==============================] - 4s 14ms/step - loss: 1.2865 - accuracy: 0.5009\n",
      "Epoch 5/200\n",
      "310/310 [==============================] - 4s 14ms/step - loss: 1.2238 - accuracy: 0.5337\n",
      "Epoch 6/200\n",
      "310/310 [==============================] - 4s 14ms/step - loss: 1.1601 - accuracy: 0.5645\n",
      "Epoch 7/200\n",
      "310/310 [==============================] - 4s 14ms/step - loss: 1.0968 - accuracy: 0.5938\n",
      "Epoch 8/200\n",
      "310/310 [==============================] - 4s 14ms/step - loss: 1.0354 - accuracy: 0.6211\n",
      "Epoch 9/200\n",
      "310/310 [==============================] - 4s 14ms/step - loss: 0.9766 - accuracy: 0.6463\n",
      "Epoch 10/200\n",
      "310/310 [==============================] - 4s 14ms/step - loss: 0.9212 - accuracy: 0.6715\n",
      "Epoch 11/200\n",
      "310/310 [==============================] - 4s 14ms/step - loss: 0.8694 - accuracy: 0.6946\n",
      "Epoch 12/200\n",
      "310/310 [==============================] - 4s 14ms/step - loss: 0.8213 - accuracy: 0.7160\n",
      "Epoch 13/200\n",
      "310/310 [==============================] - 4s 14ms/step - loss: 0.7769 - accuracy: 0.7352\n",
      "Epoch 14/200\n",
      "310/310 [==============================] - 4s 14ms/step - loss: 0.7360 - accuracy: 0.7526\n",
      "Epoch 15/200\n",
      "310/310 [==============================] - 4s 14ms/step - loss: 0.6984 - accuracy: 0.7681\n",
      "Epoch 16/200\n",
      "310/310 [==============================] - 4s 14ms/step - loss: 0.6639 - accuracy: 0.7822\n",
      "Epoch 17/200\n",
      "310/310 [==============================] - 4s 14ms/step - loss: 0.6324 - accuracy: 0.7951\n",
      "Epoch 18/200\n",
      "310/310 [==============================] - 4s 14ms/step - loss: 0.6034 - accuracy: 0.8063\n",
      "Epoch 19/200\n",
      "310/310 [==============================] - 4s 14ms/step - loss: 0.5769 - accuracy: 0.8162\n",
      "Epoch 20/200\n",
      "310/310 [==============================] - 4s 13ms/step - loss: 0.5527 - accuracy: 0.8251\n",
      "Epoch 21/200\n",
      "310/310 [==============================] - 5s 16ms/step - loss: 0.5305 - accuracy: 0.8329\n",
      "Epoch 22/200\n",
      "310/310 [==============================] - 4s 14ms/step - loss: 0.5101 - accuracy: 0.8398\n",
      "Epoch 23/200\n",
      "310/310 [==============================] - 4s 14ms/step - loss: 0.4914 - accuracy: 0.8455\n",
      "Epoch 24/200\n",
      "310/310 [==============================] - 4s 14ms/step - loss: 0.4743 - accuracy: 0.8504\n",
      "Epoch 25/200\n",
      "310/310 [==============================] - 4s 14ms/step - loss: 0.4586 - accuracy: 0.8549\n",
      "Epoch 26/200\n",
      "310/310 [==============================] - 4s 14ms/step - loss: 0.4443 - accuracy: 0.8585\n",
      "Epoch 27/200\n",
      "310/310 [==============================] - 4s 14ms/step - loss: 0.4310 - accuracy: 0.8620\n",
      "Epoch 28/200\n",
      "310/310 [==============================] - 4s 14ms/step - loss: 0.4189 - accuracy: 0.8648\n",
      "Epoch 29/200\n",
      "310/310 [==============================] - 4s 14ms/step - loss: 0.4077 - accuracy: 0.8672\n",
      "Epoch 30/200\n",
      "310/310 [==============================] - 4s 14ms/step - loss: 0.3975 - accuracy: 0.8693\n",
      "Epoch 31/200\n",
      "310/310 [==============================] - 4s 14ms/step - loss: 0.3880 - accuracy: 0.8713\n",
      "Epoch 32/200\n",
      "310/310 [==============================] - 4s 14ms/step - loss: 0.3793 - accuracy: 0.8730\n",
      "Epoch 33/200\n",
      "310/310 [==============================] - 4s 14ms/step - loss: 0.3713 - accuracy: 0.8744\n",
      "Epoch 34/200\n",
      "310/310 [==============================] - 4s 14ms/step - loss: 0.3639 - accuracy: 0.8757\n",
      "Epoch 35/200\n",
      "310/310 [==============================] - 5s 16ms/step - loss: 0.3571 - accuracy: 0.8769\n",
      "Epoch 36/200\n",
      "310/310 [==============================] - 5s 16ms/step - loss: 0.3508 - accuracy: 0.8778\n",
      "Epoch 37/200\n",
      "310/310 [==============================] - 4s 14ms/step - loss: 0.3450 - accuracy: 0.8787\n",
      "Epoch 38/200\n",
      "310/310 [==============================] - 4s 14ms/step - loss: 0.3396 - accuracy: 0.8794\n",
      "Epoch 39/200\n",
      "310/310 [==============================] - 4s 14ms/step - loss: 0.3346 - accuracy: 0.8800\n",
      "Epoch 40/200\n",
      "310/310 [==============================] - 5s 15ms/step - loss: 0.3300 - accuracy: 0.8804\n",
      "Epoch 41/200\n",
      "310/310 [==============================] - 5s 16ms/step - loss: 0.3257 - accuracy: 0.8810\n",
      "Epoch 42/200\n",
      "310/310 [==============================] - 4s 14ms/step - loss: 0.3217 - accuracy: 0.8815\n",
      "Epoch 43/200\n",
      "310/310 [==============================] - 4s 14ms/step - loss: 0.3180 - accuracy: 0.8820\n",
      "Epoch 44/200\n",
      "310/310 [==============================] - 4s 14ms/step - loss: 0.3146 - accuracy: 0.8822\n",
      "Epoch 45/200\n",
      "310/310 [==============================] - 4s 14ms/step - loss: 0.3114 - accuracy: 0.8826\n",
      "Epoch 46/200\n",
      "310/310 [==============================] - 4s 14ms/step - loss: 0.3085 - accuracy: 0.8828\n",
      "Epoch 47/200\n",
      "310/310 [==============================] - 4s 14ms/step - loss: 0.3057 - accuracy: 0.8830\n",
      "Epoch 48/200\n",
      "310/310 [==============================] - 4s 14ms/step - loss: 0.3031 - accuracy: 0.8831\n",
      "Epoch 49/200\n",
      "310/310 [==============================] - 4s 14ms/step - loss: 0.3007 - accuracy: 0.8832\n",
      "Epoch 50/200\n",
      "310/310 [==============================] - 4s 14ms/step - loss: 0.2985 - accuracy: 0.8834\n",
      "Epoch 51/200\n",
      "310/310 [==============================] - 4s 14ms/step - loss: 0.2964 - accuracy: 0.8834\n",
      "Epoch 52/200\n",
      "310/310 [==============================] - 4s 14ms/step - loss: 0.2945 - accuracy: 0.8836\n",
      "Epoch 53/200\n",
      "310/310 [==============================] - 4s 14ms/step - loss: 0.2926 - accuracy: 0.8837\n",
      "Epoch 54/200\n",
      "310/310 [==============================] - 4s 14ms/step - loss: 0.2909 - accuracy: 0.8837\n",
      "Epoch 55/200\n",
      "310/310 [==============================] - 4s 14ms/step - loss: 0.2893 - accuracy: 0.8838\n",
      "Epoch 56/200\n",
      "310/310 [==============================] - 4s 14ms/step - loss: 0.2878 - accuracy: 0.8838\n",
      "Epoch 57/200\n",
      "310/310 [==============================] - 4s 14ms/step - loss: 0.2864 - accuracy: 0.8838\n",
      "Epoch 58/200\n",
      "310/310 [==============================] - 4s 14ms/step - loss: 0.2851 - accuracy: 0.8838\n",
      "Epoch 59/200\n",
      "310/310 [==============================] - 4s 14ms/step - loss: 0.2838 - accuracy: 0.8838\n",
      "Epoch 60/200\n",
      "310/310 [==============================] - 5s 16ms/step - loss: 0.2827 - accuracy: 0.8838\n",
      "Epoch 61/200\n",
      "310/310 [==============================] - 4s 14ms/step - loss: 0.2815 - accuracy: 0.8838\n",
      "Epoch 62/200\n",
      "310/310 [==============================] - 4s 14ms/step - loss: 0.2805 - accuracy: 0.8838\n",
      "Epoch 63/200\n",
      "310/310 [==============================] - 4s 14ms/step - loss: 0.2795 - accuracy: 0.8838\n",
      "Epoch 64/200\n",
      "310/310 [==============================] - 4s 14ms/step - loss: 0.2786 - accuracy: 0.8838\n",
      "Epoch 65/200\n",
      "310/310 [==============================] - 4s 14ms/step - loss: 0.2777 - accuracy: 0.8838\n",
      "Epoch 66/200\n",
      "310/310 [==============================] - 4s 14ms/step - loss: 0.2769 - accuracy: 0.8838\n",
      "Epoch 67/200\n",
      "310/310 [==============================] - 4s 14ms/step - loss: 0.2761 - accuracy: 0.8839\n",
      "Epoch 68/200\n",
      "310/310 [==============================] - 4s 13ms/step - loss: 0.2753 - accuracy: 0.8839\n",
      "Epoch 69/200\n",
      "310/310 [==============================] - 5s 16ms/step - loss: 0.2746 - accuracy: 0.8839\n",
      "Epoch 70/200\n",
      "310/310 [==============================] - 5s 16ms/step - loss: 0.2739 - accuracy: 0.8838\n",
      "Epoch 71/200\n",
      "310/310 [==============================] - 4s 14ms/step - loss: 0.2733 - accuracy: 0.8837\n",
      "Epoch 72/200\n",
      "310/310 [==============================] - 4s 13ms/step - loss: 0.2727 - accuracy: 0.8837\n",
      "Epoch 73/200\n",
      "310/310 [==============================] - 4s 13ms/step - loss: 0.2721 - accuracy: 0.8837\n",
      "Epoch 74/200\n",
      "310/310 [==============================] - 4s 13ms/step - loss: 0.2715 - accuracy: 0.8837\n",
      "Epoch 75/200\n",
      "310/310 [==============================] - 4s 14ms/step - loss: 0.2710 - accuracy: 0.8836\n",
      "Epoch 76/200\n",
      "310/310 [==============================] - 4s 14ms/step - loss: 0.2705 - accuracy: 0.8836\n",
      "Epoch 77/200\n",
      "310/310 [==============================] - 4s 14ms/step - loss: 0.2700 - accuracy: 0.8836\n",
      "Epoch 78/200\n",
      "310/310 [==============================] - 4s 14ms/step - loss: 0.2696 - accuracy: 0.8836\n",
      "Epoch 79/200\n",
      "310/310 [==============================] - 4s 14ms/step - loss: 0.2691 - accuracy: 0.8836\n",
      "Epoch 80/200\n",
      "310/310 [==============================] - 4s 13ms/step - loss: 0.2687 - accuracy: 0.8836\n",
      "Epoch 81/200\n",
      "310/310 [==============================] - 4s 13ms/step - loss: 0.2683 - accuracy: 0.8836\n",
      "Epoch 82/200\n",
      "310/310 [==============================] - 4s 13ms/step - loss: 0.2679 - accuracy: 0.8836\n",
      "Epoch 83/200\n",
      "310/310 [==============================] - 4s 13ms/step - loss: 0.2676 - accuracy: 0.8836\n",
      "Epoch 84/200\n",
      "310/310 [==============================] - 4s 14ms/step - loss: 0.2672 - accuracy: 0.8835\n",
      "Epoch 85/200\n",
      "310/310 [==============================] - 4s 13ms/step - loss: 0.2669 - accuracy: 0.8835\n",
      "Epoch 86/200\n",
      "310/310 [==============================] - 4s 14ms/step - loss: 0.2665 - accuracy: 0.8835\n",
      "Epoch 87/200\n",
      "310/310 [==============================] - 4s 14ms/step - loss: 0.2662 - accuracy: 0.8835\n",
      "Epoch 88/200\n",
      "310/310 [==============================] - 4s 14ms/step - loss: 0.2659 - accuracy: 0.8834\n",
      "Epoch 89/200\n",
      "310/310 [==============================] - 4s 14ms/step - loss: 0.2656 - accuracy: 0.8834\n",
      "Epoch 90/200\n",
      "310/310 [==============================] - 4s 14ms/step - loss: 0.2654 - accuracy: 0.8834\n",
      "Epoch 91/200\n",
      "310/310 [==============================] - 4s 14ms/step - loss: 0.2651 - accuracy: 0.8834\n",
      "Epoch 92/200\n",
      "310/310 [==============================] - 4s 13ms/step - loss: 0.2648 - accuracy: 0.8834\n",
      "Epoch 93/200\n",
      "310/310 [==============================] - 4s 13ms/step - loss: 0.2646 - accuracy: 0.8834\n",
      "Epoch 94/200\n",
      "310/310 [==============================] - 4s 13ms/step - loss: 0.2643 - accuracy: 0.8834\n",
      "Epoch 95/200\n",
      "310/310 [==============================] - 4s 14ms/step - loss: 0.2641 - accuracy: 0.8834\n",
      "Epoch 96/200\n",
      "310/310 [==============================] - 4s 14ms/step - loss: 0.2639 - accuracy: 0.8834\n",
      "Epoch 97/200\n",
      "310/310 [==============================] - 4s 14ms/step - loss: 0.2637 - accuracy: 0.8834\n",
      "Epoch 98/200\n",
      "310/310 [==============================] - 4s 14ms/step - loss: 0.2634 - accuracy: 0.8834\n",
      "Epoch 99/200\n",
      "310/310 [==============================] - 4s 14ms/step - loss: 0.2632 - accuracy: 0.8833\n",
      "Epoch 100/200\n",
      "310/310 [==============================] - 4s 14ms/step - loss: 0.2630 - accuracy: 0.8833\n",
      "Epoch 101/200\n",
      "310/310 [==============================] - 5s 16ms/step - loss: 0.2629 - accuracy: 0.8833\n",
      "Epoch 102/200\n",
      "310/310 [==============================] - 4s 14ms/step - loss: 0.2627 - accuracy: 0.8833\n",
      "Epoch 103/200\n",
      "310/310 [==============================] - 4s 14ms/step - loss: 0.2625 - accuracy: 0.8833\n",
      "Epoch 104/200\n",
      "310/310 [==============================] - 4s 14ms/step - loss: 0.2623 - accuracy: 0.8833\n",
      "Epoch 105/200\n",
      "310/310 [==============================] - 4s 14ms/step - loss: 0.2621 - accuracy: 0.8833\n",
      "Epoch 106/200\n",
      "310/310 [==============================] - 4s 14ms/step - loss: 0.2620 - accuracy: 0.8833\n",
      "Epoch 107/200\n",
      "310/310 [==============================] - 4s 14ms/step - loss: 0.2618 - accuracy: 0.8833\n",
      "Epoch 108/200\n",
      "310/310 [==============================] - 4s 14ms/step - loss: 0.2617 - accuracy: 0.8833\n",
      "Epoch 109/200\n",
      "310/310 [==============================] - 4s 14ms/step - loss: 0.2615 - accuracy: 0.8833\n",
      "Epoch 110/200\n",
      "310/310 [==============================] - 4s 14ms/step - loss: 0.2614 - accuracy: 0.8832\n",
      "Epoch 111/200\n",
      "310/310 [==============================] - 5s 16ms/step - loss: 0.2612 - accuracy: 0.8832\n",
      "Epoch 112/200\n",
      "310/310 [==============================] - 4s 14ms/step - loss: 0.2611 - accuracy: 0.8833\n",
      "Epoch 113/200\n",
      "310/310 [==============================] - 4s 14ms/step - loss: 0.2610 - accuracy: 0.8833\n",
      "Epoch 114/200\n",
      "310/310 [==============================] - 4s 14ms/step - loss: 0.2608 - accuracy: 0.8832\n",
      "Epoch 115/200\n",
      "310/310 [==============================] - 4s 14ms/step - loss: 0.2607 - accuracy: 0.8832\n",
      "Epoch 116/200\n",
      "310/310 [==============================] - 4s 14ms/step - loss: 0.2606 - accuracy: 0.8832\n",
      "Epoch 117/200\n",
      "310/310 [==============================] - 4s 14ms/step - loss: 0.2605 - accuracy: 0.8832\n",
      "Epoch 118/200\n",
      "310/310 [==============================] - 4s 14ms/step - loss: 0.2603 - accuracy: 0.8832\n",
      "Epoch 119/200\n",
      "310/310 [==============================] - 4s 14ms/step - loss: 0.2602 - accuracy: 0.8832\n",
      "Epoch 120/200\n",
      "310/310 [==============================] - 5s 16ms/step - loss: 0.2601 - accuracy: 0.8832\n",
      "Epoch 121/200\n",
      "310/310 [==============================] - 4s 14ms/step - loss: 0.2600 - accuracy: 0.8832\n",
      "Epoch 122/200\n",
      "310/310 [==============================] - 4s 14ms/step - loss: 0.2599 - accuracy: 0.8832\n",
      "Epoch 123/200\n",
      "310/310 [==============================] - 4s 14ms/step - loss: 0.2598 - accuracy: 0.8832\n",
      "Epoch 124/200\n",
      "310/310 [==============================] - 4s 14ms/step - loss: 0.2597 - accuracy: 0.8832\n",
      "Epoch 125/200\n",
      "310/310 [==============================] - 4s 14ms/step - loss: 0.2596 - accuracy: 0.8831\n",
      "Epoch 126/200\n",
      "310/310 [==============================] - 4s 14ms/step - loss: 0.2595 - accuracy: 0.8831\n",
      "Epoch 127/200\n",
      "310/310 [==============================] - 4s 14ms/step - loss: 0.2594 - accuracy: 0.8831\n",
      "Epoch 128/200\n",
      "310/310 [==============================] - 4s 14ms/step - loss: 0.2593 - accuracy: 0.8831\n",
      "Epoch 129/200\n",
      "310/310 [==============================] - 4s 14ms/step - loss: 0.2592 - accuracy: 0.8831\n",
      "Epoch 130/200\n",
      "310/310 [==============================] - 4s 14ms/step - loss: 0.2591 - accuracy: 0.8831\n",
      "Epoch 131/200\n",
      "310/310 [==============================] - 4s 14ms/step - loss: 0.2590 - accuracy: 0.8831\n",
      "Epoch 132/200\n",
      "310/310 [==============================] - 4s 14ms/step - loss: 0.2590 - accuracy: 0.8831\n",
      "Epoch 133/200\n",
      "310/310 [==============================] - 4s 14ms/step - loss: 0.2589 - accuracy: 0.8831\n",
      "Epoch 134/200\n",
      "310/310 [==============================] - 4s 14ms/step - loss: 0.2588 - accuracy: 0.8831\n",
      "Epoch 135/200\n",
      "310/310 [==============================] - 4s 14ms/step - loss: 0.2587 - accuracy: 0.8831\n",
      "Epoch 136/200\n",
      "310/310 [==============================] - 4s 13ms/step - loss: 0.2586 - accuracy: 0.8831\n",
      "Epoch 137/200\n",
      "310/310 [==============================] - 5s 15ms/step - loss: 0.2586 - accuracy: 0.8831\n",
      "Epoch 138/200\n",
      "310/310 [==============================] - 5s 15ms/step - loss: 0.2585 - accuracy: 0.8831\n",
      "Epoch 139/200\n",
      "310/310 [==============================] - 4s 14ms/step - loss: 0.2584 - accuracy: 0.8831\n",
      "Epoch 140/200\n",
      "310/310 [==============================] - 4s 14ms/step - loss: 0.2583 - accuracy: 0.8831\n",
      "Epoch 141/200\n",
      "310/310 [==============================] - 4s 13ms/step - loss: 0.2583 - accuracy: 0.8831\n",
      "Epoch 142/200\n",
      "310/310 [==============================] - 4s 14ms/step - loss: 0.2582 - accuracy: 0.8831\n",
      "Epoch 143/200\n",
      "310/310 [==============================] - 4s 14ms/step - loss: 0.2581 - accuracy: 0.8831\n",
      "Epoch 144/200\n",
      "310/310 [==============================] - 4s 14ms/step - loss: 0.2581 - accuracy: 0.8830\n",
      "Epoch 145/200\n",
      "310/310 [==============================] - 4s 14ms/step - loss: 0.2580 - accuracy: 0.8830\n",
      "Epoch 146/200\n",
      "310/310 [==============================] - 4s 14ms/step - loss: 0.2579 - accuracy: 0.8830\n",
      "Epoch 147/200\n",
      "310/310 [==============================] - 4s 14ms/step - loss: 0.2579 - accuracy: 0.8830\n",
      "Epoch 148/200\n",
      "310/310 [==============================] - 5s 15ms/step - loss: 0.2578 - accuracy: 0.8830\n",
      "Epoch 149/200\n",
      "310/310 [==============================] - 4s 14ms/step - loss: 0.2577 - accuracy: 0.8830\n",
      "Epoch 150/200\n",
      "310/310 [==============================] - 4s 14ms/step - loss: 0.2577 - accuracy: 0.8830\n",
      "Epoch 151/200\n",
      "310/310 [==============================] - 4s 14ms/step - loss: 0.2576 - accuracy: 0.8830\n",
      "Epoch 152/200\n",
      "310/310 [==============================] - 4s 14ms/step - loss: 0.2576 - accuracy: 0.8830\n",
      "Epoch 153/200\n",
      "310/310 [==============================] - 4s 13ms/step - loss: 0.2575 - accuracy: 0.8830\n",
      "Epoch 154/200\n",
      "310/310 [==============================] - 4s 13ms/step - loss: 0.2575 - accuracy: 0.8830\n",
      "Epoch 155/200\n",
      "310/310 [==============================] - 4s 13ms/step - loss: 0.2574 - accuracy: 0.8830\n",
      "Epoch 156/200\n",
      "310/310 [==============================] - 4s 14ms/step - loss: 0.2573 - accuracy: 0.8830\n",
      "Epoch 157/200\n",
      "310/310 [==============================] - 4s 13ms/step - loss: 0.2573 - accuracy: 0.8830\n",
      "Epoch 158/200\n",
      "310/310 [==============================] - 4s 14ms/step - loss: 0.2572 - accuracy: 0.8830\n",
      "Epoch 159/200\n",
      "310/310 [==============================] - 4s 14ms/step - loss: 0.2572 - accuracy: 0.8830\n",
      "Epoch 160/200\n",
      "310/310 [==============================] - 4s 14ms/step - loss: 0.2571 - accuracy: 0.8830\n",
      "Epoch 161/200\n",
      "310/310 [==============================] - 4s 14ms/step - loss: 0.2571 - accuracy: 0.8830\n",
      "Epoch 162/200\n",
      "310/310 [==============================] - 4s 14ms/step - loss: 0.2570 - accuracy: 0.8830\n",
      "Epoch 163/200\n",
      "310/310 [==============================] - 4s 14ms/step - loss: 0.2570 - accuracy: 0.8830\n",
      "Epoch 164/200\n",
      "310/310 [==============================] - 4s 14ms/step - loss: 0.2569 - accuracy: 0.8830\n",
      "Epoch 165/200\n",
      "310/310 [==============================] - 4s 14ms/step - loss: 0.2569 - accuracy: 0.8830\n",
      "Epoch 166/200\n",
      "310/310 [==============================] - 4s 14ms/step - loss: 0.2568 - accuracy: 0.8830\n",
      "Epoch 167/200\n",
      "310/310 [==============================] - 4s 14ms/step - loss: 0.2568 - accuracy: 0.8830\n",
      "Epoch 168/200\n",
      "310/310 [==============================] - 4s 14ms/step - loss: 0.2568 - accuracy: 0.8830\n",
      "Epoch 169/200\n",
      "310/310 [==============================] - 4s 14ms/step - loss: 0.2567 - accuracy: 0.8830\n",
      "Epoch 170/200\n",
      "310/310 [==============================] - 4s 14ms/step - loss: 0.2567 - accuracy: 0.8830\n",
      "Epoch 171/200\n",
      "310/310 [==============================] - 4s 14ms/step - loss: 0.2566 - accuracy: 0.8830\n",
      "Epoch 172/200\n",
      "310/310 [==============================] - 4s 13ms/step - loss: 0.2566 - accuracy: 0.8830\n",
      "Epoch 173/200\n",
      "310/310 [==============================] - 4s 14ms/step - loss: 0.2565 - accuracy: 0.8830\n",
      "Epoch 174/200\n",
      "310/310 [==============================] - 5s 16ms/step - loss: 0.2565 - accuracy: 0.8830\n",
      "Epoch 175/200\n",
      "310/310 [==============================] - 4s 14ms/step - loss: 0.2565 - accuracy: 0.8830\n",
      "Epoch 176/200\n",
      "310/310 [==============================] - 4s 14ms/step - loss: 0.2564 - accuracy: 0.8830\n",
      "Epoch 177/200\n",
      "310/310 [==============================] - 4s 14ms/step - loss: 0.2564 - accuracy: 0.8830\n",
      "Epoch 178/200\n",
      "310/310 [==============================] - 4s 14ms/step - loss: 0.2563 - accuracy: 0.8830\n",
      "Epoch 179/200\n",
      "310/310 [==============================] - 4s 14ms/step - loss: 0.2563 - accuracy: 0.8830\n",
      "Epoch 180/200\n",
      "310/310 [==============================] - 4s 14ms/step - loss: 0.2563 - accuracy: 0.8830\n",
      "Epoch 181/200\n",
      "310/310 [==============================] - 4s 14ms/step - loss: 0.2562 - accuracy: 0.8830\n",
      "Epoch 182/200\n",
      "310/310 [==============================] - 4s 14ms/step - loss: 0.2562 - accuracy: 0.8830\n",
      "Epoch 183/200\n",
      "310/310 [==============================] - 5s 16ms/step - loss: 0.2561 - accuracy: 0.8830\n",
      "Epoch 184/200\n",
      "310/310 [==============================] - 5s 16ms/step - loss: 0.2561 - accuracy: 0.8830\n",
      "Epoch 185/200\n",
      "310/310 [==============================] - 5s 16ms/step - loss: 0.2561 - accuracy: 0.8830\n",
      "Epoch 186/200\n",
      "310/310 [==============================] - 5s 16ms/step - loss: 0.2560 - accuracy: 0.8830\n",
      "Epoch 187/200\n",
      "310/310 [==============================] - 4s 14ms/step - loss: 0.2560 - accuracy: 0.8830\n",
      "Epoch 188/200\n",
      "310/310 [==============================] - 4s 14ms/step - loss: 0.2560 - accuracy: 0.8830\n",
      "Epoch 189/200\n",
      "310/310 [==============================] - 4s 14ms/step - loss: 0.2559 - accuracy: 0.8830\n",
      "Epoch 190/200\n",
      "310/310 [==============================] - 4s 14ms/step - loss: 0.2559 - accuracy: 0.8830\n",
      "Epoch 191/200\n",
      "310/310 [==============================] - 4s 14ms/step - loss: 0.2559 - accuracy: 0.8830\n",
      "Epoch 192/200\n",
      "310/310 [==============================] - 4s 14ms/step - loss: 0.2558 - accuracy: 0.8830\n",
      "Epoch 193/200\n",
      "310/310 [==============================] - 4s 14ms/step - loss: 0.2558 - accuracy: 0.8830\n",
      "Epoch 194/200\n",
      "310/310 [==============================] - 4s 14ms/step - loss: 0.2558 - accuracy: 0.8830\n",
      "Epoch 195/200\n",
      "310/310 [==============================] - 5s 15ms/step - loss: 0.2557 - accuracy: 0.8830\n",
      "Epoch 196/200\n",
      "310/310 [==============================] - 4s 14ms/step - loss: 0.2557 - accuracy: 0.8830\n",
      "Epoch 197/200\n",
      "310/310 [==============================] - 4s 14ms/step - loss: 0.2557 - accuracy: 0.8830\n",
      "Epoch 198/200\n",
      "310/310 [==============================] - 4s 14ms/step - loss: 0.2556 - accuracy: 0.8830\n",
      "Epoch 199/200\n",
      "310/310 [==============================] - 4s 14ms/step - loss: 0.2556 - accuracy: 0.8830\n",
      "Epoch 200/200\n",
      "310/310 [==============================] - 4s 13ms/step - loss: 0.2556 - accuracy: 0.8830\n"
     ]
    },
    {
     "data": {
      "text/plain": [
       "<keras.callbacks.History at 0x7f44322f3bd0>"
      ]
     },
     "execution_count": 27,
     "metadata": {},
     "output_type": "execute_result"
    }
   ],
   "source": [
    "word2vec.fit(dataset, epochs=200, callbacks=[tensorboard_callback])\n",
    "# word2vec.fit(dataset, epochs=20)"
   ]
  },
  {
   "cell_type": "code",
   "execution_count": 28,
   "metadata": {},
   "outputs": [
    {
     "name": "stdout",
     "output_type": "stream",
     "text": [
      "Model: \"word2_vec\"\n",
      "_________________________________________________________________\n",
      " Layer (type)                Output Shape              Param #   \n",
      "=================================================================\n",
      " w2v_embedding (Embedding)   multiple                  524288    \n",
      "                                                                 \n",
      " embedding (Embedding)       multiple                  524288    \n",
      "                                                                 \n",
      "=================================================================\n",
      "Total params: 1,048,576\n",
      "Trainable params: 1,048,576\n",
      "Non-trainable params: 0\n",
      "_________________________________________________________________\n"
     ]
    }
   ],
   "source": [
    "word2vec.summary()"
   ]
  },
  {
   "cell_type": "code",
   "execution_count": 29,
   "metadata": {},
   "outputs": [
    {
     "data": {
      "text/plain": [
       "Reusing TensorBoard on port 6006 (pid 1766728), started 4 days, 22:24:37 ago. (Use '!kill 1766728' to kill it.)"
      ]
     },
     "metadata": {},
     "output_type": "display_data"
    },
    {
     "data": {
      "text/html": [
       "\n",
       "      <iframe id=\"tensorboard-frame-f0f05b3c58989988\" width=\"100%\" height=\"800\" frameborder=\"0\">\n",
       "      </iframe>\n",
       "      <script>\n",
       "        (function() {\n",
       "          const frame = document.getElementById(\"tensorboard-frame-f0f05b3c58989988\");\n",
       "          const url = new URL(\"http://localhost\");\n",
       "          const port = 6006;\n",
       "          if (port) {\n",
       "            url.port = port;\n",
       "          }\n",
       "          frame.src = url;\n",
       "        })();\n",
       "      </script>\n",
       "    "
      ],
      "text/plain": [
       "<IPython.core.display.HTML object>"
      ]
     },
     "metadata": {},
     "output_type": "display_data"
    }
   ],
   "source": [
    "#docs_infra: no_execute\n",
    "%tensorboard --logdir logs"
   ]
  },
  {
   "cell_type": "code",
   "execution_count": 30,
   "metadata": {},
   "outputs": [],
   "source": [
    "weights = word2vec.get_layer('w2v_embedding').get_weights()[0]\n",
    "vocab = vectorize_layer.get_vocabulary()"
   ]
  },
  {
   "cell_type": "code",
   "execution_count": 31,
   "metadata": {},
   "outputs": [],
   "source": [
    "vf = open(DATA_W2V_VECTOR_PATH, 'w')\n",
    "mf = open(DATA_W2V_META_PATH, 'w')\n",
    "\n",
    "\n",
    "for index, word in enumerate(vocab):\n",
    "  if index == 0:\n",
    "    continue  # skip 0, it's padding.\n",
    "  vec = weights[index]\n",
    "  vf.write('\\t'.join([str(x) for x in vec]) + \"\\n\")\n",
    "  mf.write(word + \"\\n\")\n",
    "  \n",
    "mf.close()\n",
    "vf.close()"
   ]
  }
 ],
 "metadata": {
  "interpreter": {
   "hash": "798719e834ce2667b284169792ed9be744f500b1bbad4a58ecba241c6661f77e"
  },
  "kernelspec": {
   "display_name": "Python 3.7.13 ('news')",
   "language": "python",
   "name": "python3"
  },
  "language_info": {
   "codemirror_mode": {
    "name": "ipython",
    "version": 3
   },
   "file_extension": ".py",
   "mimetype": "text/x-python",
   "name": "python",
   "nbconvert_exporter": "python",
   "pygments_lexer": "ipython3",
   "version": "3.7.13"
  },
  "orig_nbformat": 4
 },
 "nbformat": 4,
 "nbformat_minor": 2
}
