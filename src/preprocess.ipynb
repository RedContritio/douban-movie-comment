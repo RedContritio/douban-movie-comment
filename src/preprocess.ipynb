{
 "cells": [
  {
   "cell_type": "code",
   "execution_count": 1,
   "metadata": {},
   "outputs": [],
   "source": [
    "import numpy as np\n",
    "import pandas as pd\n",
    "import random\n",
    "import jieba\n",
    "import os\n",
    "from utils import DATA_PROCESSED_DIR, DATA_W2V_VECTOR_PATH, DATA_W2V_META_PATH, DATA_TEXT_SEQUENCES_PATH, DATA_LABELS_PATH\n",
    "import tensorflow as tf\n",
    "from tensorflow.keras import layers\n",
    "from utils import CustomIterator\n",
    "import tqdm\n",
    "import math\n",
    "import pickle\n",
    "\n",
    "from typing import List"
   ]
  },
  {
   "cell_type": "code",
   "execution_count": 2,
   "metadata": {},
   "outputs": [],
   "source": [
    "%load_ext tensorboard"
   ]
  },
  {
   "cell_type": "code",
   "execution_count": 3,
   "metadata": {},
   "outputs": [],
   "source": [
    "SEED = 42\n",
    "AUTOTUNE = tf.data.AUTOTUNE"
   ]
  },
  {
   "cell_type": "code",
   "execution_count": 4,
   "metadata": {},
   "outputs": [
    {
     "data": {
      "text/html": [
       "<div>\n",
       "<style scoped>\n",
       "    .dataframe tbody tr th:only-of-type {\n",
       "        vertical-align: middle;\n",
       "    }\n",
       "\n",
       "    .dataframe tbody tr th {\n",
       "        vertical-align: top;\n",
       "    }\n",
       "\n",
       "    .dataframe thead th {\n",
       "        text-align: right;\n",
       "    }\n",
       "</style>\n",
       "<table border=\"1\" class=\"dataframe\">\n",
       "  <thead>\n",
       "    <tr style=\"text-align: right;\">\n",
       "      <th></th>\n",
       "      <th>movie_id</th>\n",
       "      <th>user_id</th>\n",
       "      <th>rate</th>\n",
       "      <th>time</th>\n",
       "      <th>content</th>\n",
       "    </tr>\n",
       "  </thead>\n",
       "  <tbody>\n",
       "    <tr>\n",
       "      <th>0</th>\n",
       "      <td>26825482</td>\n",
       "      <td>寒狐传媒</td>\n",
       "      <td>4</td>\n",
       "      <td>2022-02-24 08:15:44</td>\n",
       "      <td>标准美国科幻大片。参考影片《世界末日 Armageddon (1998)》</td>\n",
       "    </tr>\n",
       "    <tr>\n",
       "      <th>1</th>\n",
       "      <td>26825482</td>\n",
       "      <td>BURKARD</td>\n",
       "      <td>3</td>\n",
       "      <td>2022-02-06 22:00:29</td>\n",
       "      <td>降智😅 地震把一屋子领导砸死了我属实没想到</td>\n",
       "    </tr>\n",
       "    <tr>\n",
       "      <th>2</th>\n",
       "      <td>26825482</td>\n",
       "      <td>Hachiko</td>\n",
       "      <td>3</td>\n",
       "      <td>2022-03-29 17:49:46</td>\n",
       "      <td>顶着叛国罪的风险无比坚信前妻，这种还会离婚？</td>\n",
       "    </tr>\n",
       "    <tr>\n",
       "      <th>3</th>\n",
       "      <td>26825482</td>\n",
       "      <td>十一子</td>\n",
       "      <td>3</td>\n",
       "      <td>2022-02-06 07:40:39</td>\n",
       "      <td>月亮果然还是家园，不过这下是真的变成人类共识了。所有的惊奇点、感动点和转折点都在可预计范围内...</td>\n",
       "    </tr>\n",
       "    <tr>\n",
       "      <th>4</th>\n",
       "      <td>26825482</td>\n",
       "      <td>VincentP</td>\n",
       "      <td>3</td>\n",
       "      <td>2022-01-27 10:33:21</td>\n",
       "      <td>我的天，剧情真的好阴谋论，但是还算是能自圆其说。埃默里奇真的20年如一日的毁地球，还是他之前...</td>\n",
       "    </tr>\n",
       "  </tbody>\n",
       "</table>\n",
       "</div>"
      ],
      "text/plain": [
       "   movie_id   user_id  rate                 time  \\\n",
       "0  26825482      寒狐传媒     4  2022-02-24 08:15:44   \n",
       "1  26825482   BURKARD     3  2022-02-06 22:00:29   \n",
       "2  26825482   Hachiko     3  2022-03-29 17:49:46   \n",
       "3  26825482       十一子     3  2022-02-06 07:40:39   \n",
       "4  26825482  VincentP     3  2022-01-27 10:33:21   \n",
       "\n",
       "                                             content  \n",
       "0              标准美国科幻大片。参考影片《世界末日 Armageddon (1998)》  \n",
       "1                              降智😅 地震把一屋子领导砸死了我属实没想到  \n",
       "2                             顶着叛国罪的风险无比坚信前妻，这种还会离婚？  \n",
       "3  月亮果然还是家园，不过这下是真的变成人类共识了。所有的惊奇点、感动点和转折点都在可预计范围内...  \n",
       "4  我的天，剧情真的好阴谋论，但是还算是能自圆其说。埃默里奇真的20年如一日的毁地球，还是他之前...  "
      ]
     },
     "execution_count": 4,
     "metadata": {},
     "output_type": "execute_result"
    }
   ],
   "source": [
    "# raw_dataset = pd.read_csv('../data/preset/minibatch.csv')\n",
    "raw_dataset = pd.read_csv('../data/comment.csv')\n",
    "\n",
    "raw_dataset.head()"
   ]
  },
  {
   "cell_type": "code",
   "execution_count": 5,
   "metadata": {},
   "outputs": [
    {
     "name": "stdout",
     "output_type": "stream",
     "text": [
      "length: 21942\n"
     ]
    },
    {
     "data": {
      "text/html": [
       "<div>\n",
       "<style scoped>\n",
       "    .dataframe tbody tr th:only-of-type {\n",
       "        vertical-align: middle;\n",
       "    }\n",
       "\n",
       "    .dataframe tbody tr th {\n",
       "        vertical-align: top;\n",
       "    }\n",
       "\n",
       "    .dataframe thead th {\n",
       "        text-align: right;\n",
       "    }\n",
       "</style>\n",
       "<table border=\"1\" class=\"dataframe\">\n",
       "  <thead>\n",
       "    <tr style=\"text-align: right;\">\n",
       "      <th></th>\n",
       "      <th>index</th>\n",
       "      <th>movie_id</th>\n",
       "      <th>user_id</th>\n",
       "      <th>rate</th>\n",
       "      <th>time</th>\n",
       "      <th>content</th>\n",
       "    </tr>\n",
       "  </thead>\n",
       "  <tbody>\n",
       "    <tr>\n",
       "      <th>0</th>\n",
       "      <td>0</td>\n",
       "      <td>26825482</td>\n",
       "      <td>寒狐传媒</td>\n",
       "      <td>4</td>\n",
       "      <td>2022-02-24 08:15:44</td>\n",
       "      <td>标准美国科幻大片。参考影片《世界末日 Armageddon (1998)》</td>\n",
       "    </tr>\n",
       "    <tr>\n",
       "      <th>1</th>\n",
       "      <td>1</td>\n",
       "      <td>26825482</td>\n",
       "      <td>BURKARD</td>\n",
       "      <td>3</td>\n",
       "      <td>2022-02-06 22:00:29</td>\n",
       "      <td>降智😅 地震把一屋子领导砸死了我属实没想到</td>\n",
       "    </tr>\n",
       "    <tr>\n",
       "      <th>2</th>\n",
       "      <td>2</td>\n",
       "      <td>26825482</td>\n",
       "      <td>Hachiko</td>\n",
       "      <td>3</td>\n",
       "      <td>2022-03-29 17:49:46</td>\n",
       "      <td>顶着叛国罪的风险无比坚信前妻，这种还会离婚？</td>\n",
       "    </tr>\n",
       "    <tr>\n",
       "      <th>3</th>\n",
       "      <td>3</td>\n",
       "      <td>26825482</td>\n",
       "      <td>十一子</td>\n",
       "      <td>3</td>\n",
       "      <td>2022-02-06 07:40:39</td>\n",
       "      <td>月亮果然还是家园，不过这下是真的变成人类共识了。所有的惊奇点、感动点和转折点都在可预计范围内...</td>\n",
       "    </tr>\n",
       "    <tr>\n",
       "      <th>4</th>\n",
       "      <td>4</td>\n",
       "      <td>26825482</td>\n",
       "      <td>VincentP</td>\n",
       "      <td>3</td>\n",
       "      <td>2022-01-27 10:33:21</td>\n",
       "      <td>我的天，剧情真的好阴谋论，但是还算是能自圆其说。埃默里奇真的20年如一日的毁地球，还是他之前...</td>\n",
       "    </tr>\n",
       "  </tbody>\n",
       "</table>\n",
       "</div>"
      ],
      "text/plain": [
       "   index  movie_id   user_id  rate                 time  \\\n",
       "0      0  26825482      寒狐传媒     4  2022-02-24 08:15:44   \n",
       "1      1  26825482   BURKARD     3  2022-02-06 22:00:29   \n",
       "2      2  26825482   Hachiko     3  2022-03-29 17:49:46   \n",
       "3      3  26825482       十一子     3  2022-02-06 07:40:39   \n",
       "4      4  26825482  VincentP     3  2022-01-27 10:33:21   \n",
       "\n",
       "                                             content  \n",
       "0              标准美国科幻大片。参考影片《世界末日 Armageddon (1998)》  \n",
       "1                              降智😅 地震把一屋子领导砸死了我属实没想到  \n",
       "2                             顶着叛国罪的风险无比坚信前妻，这种还会离婚？  \n",
       "3  月亮果然还是家园，不过这下是真的变成人类共识了。所有的惊奇点、感动点和转折点都在可预计范围内...  \n",
       "4  我的天，剧情真的好阴谋论，但是还算是能自圆其说。埃默里奇真的20年如一日的毁地球，还是他之前...  "
      ]
     },
     "execution_count": 5,
     "metadata": {},
     "output_type": "execute_result"
    }
   ],
   "source": [
    "dataset = raw_dataset.dropna(axis=0).reset_index()\n",
    "\n",
    "print(f'length: {len(dataset)}')\n",
    "dataset.head()"
   ]
  },
  {
   "cell_type": "code",
   "execution_count": 6,
   "metadata": {},
   "outputs": [
    {
     "name": "stderr",
     "output_type": "stream",
     "text": [
      "Building prefix dict from the default dictionary ...\n",
      "Loading model from cache /tmp/jieba.cache\n",
      "Dumping model to file cache /tmp/jieba.cache\n",
      "Dump cache file failed.\n",
      "Traceback (most recent call last):\n",
      "  File \"/data/user18302289/anaconda3/envs/news/lib/python3.7/site-packages/jieba/__init__.py\", line 154, in initialize\n",
      "    _replace_file(fpath, cache_file)\n",
      "PermissionError: [Errno 1] Operation not permitted: '/tmp/tmpr3alipwh' -> '/tmp/jieba.cache'\n",
      "Loading model cost 0.747 seconds.\n",
      "Prefix dict has been built successfully.\n"
     ]
    },
    {
     "name": "stdout",
     "output_type": "stream",
     "text": [
      "68\n"
     ]
    }
   ],
   "source": [
    "def line2words(line: str) -> List[str]:\n",
    "    return list(jieba.cut(line))\n",
    "\n",
    "dataset['words_count'] = dataset['content'].map((lambda x: len(line2words(x))))\n",
    "\n",
    "EXPECT_SENTENSE_LENGTH = math.ceil(dataset['words_count'].quantile(0.75))\n",
    "print(EXPECT_SENTENSE_LENGTH)"
   ]
  },
  {
   "cell_type": "code",
   "execution_count": 7,
   "metadata": {},
   "outputs": [],
   "source": [
    "with open(DATA_LABELS_PATH, 'wb') as f:\n",
    "    pickle.dump(dataset['rate'].values, f)"
   ]
  },
  {
   "cell_type": "code",
   "execution_count": 8,
   "metadata": {},
   "outputs": [
    {
     "name": "stdout",
     "output_type": "stream",
     "text": [
      "66909\n"
     ]
    }
   ],
   "source": [
    "vocab, index = {}, 1\n",
    "vocab['<pad>'] = 0\n",
    "\n",
    "for words in CustomIterator(dataset['content'], line2words):\n",
    "    for word in words:\n",
    "        if word not in vocab:\n",
    "            vocab[word] = index\n",
    "            index += 1\n",
    "\n",
    "vocab_size = len(vocab)\n",
    "inverse_vocab = {index: token for token, index in vocab.items()}\n",
    "print(len(vocab))"
   ]
  },
  {
   "cell_type": "code",
   "execution_count": 9,
   "metadata": {},
   "outputs": [
    {
     "name": "stdout",
     "output_type": "stream",
     "text": [
      "[1, 2, 3, 4, 5, 6, 7, 8, 9, 10, 11, 10, 12, 13, 14, 15]\n"
     ]
    }
   ],
   "source": [
    "def words2sequence(words: List[str], vocab: dict) -> List[int]:\n",
    "    return [vocab[word] for word in words]\n",
    "\n",
    "example_sequence = words2sequence(line2words(dataset.iloc[0]['content']), vocab)\n",
    "print(example_sequence)"
   ]
  },
  {
   "cell_type": "code",
   "execution_count": 10,
   "metadata": {},
   "outputs": [
    {
     "name": "stdout",
     "output_type": "stream",
     "text": [
      "84\n"
     ]
    }
   ],
   "source": [
    "window_size = 3\n",
    "positive_skip_grams, _ = tf.keras.preprocessing.sequence.skipgrams(\n",
    "      example_sequence,\n",
    "      vocabulary_size=vocab_size,\n",
    "      window_size=window_size,\n",
    "      negative_samples=0)\n",
    "\n",
    "print(len(positive_skip_grams))"
   ]
  },
  {
   "cell_type": "code",
   "execution_count": 11,
   "metadata": {},
   "outputs": [
    {
     "name": "stdout",
     "output_type": "stream",
     "text": [
      "(14, 13): (), 1998)\n",
      "(4, 6): (大片, 参考)\n",
      "(8, 9): (《, 世界末日)\n",
      "(7, 10): (影片,  )\n",
      "(11, 8): (Armageddon, 《)\n"
     ]
    }
   ],
   "source": [
    "for target, context in positive_skip_grams[:5]:\n",
    "  print(f\"({target}, {context}): ({inverse_vocab[target]}, {inverse_vocab[context]})\")"
   ]
  },
  {
   "cell_type": "code",
   "execution_count": 12,
   "metadata": {},
   "outputs": [
    {
     "name": "stdout",
     "output_type": "stream",
     "text": [
      "tf.Tensor([ 960   55 7892  225], shape=(4,), dtype=int64)\n",
      "['全然', '、', '念白', '略微']\n"
     ]
    },
    {
     "name": "stderr",
     "output_type": "stream",
     "text": [
      "2022-04-11 19:07:01.735852: I tensorflow/core/platform/cpu_feature_guard.cc:151] This TensorFlow binary is optimized with oneAPI Deep Neural Network Library (oneDNN) to use the following CPU instructions in performance-critical operations:  AVX2 AVX512F FMA\n",
      "To enable them in other operations, rebuild TensorFlow with the appropriate compiler flags.\n",
      "2022-04-11 19:07:03.990946: I tensorflow/core/common_runtime/gpu/gpu_device.cc:1525] Created device /job:localhost/replica:0/task:0/device:GPU:0 with 9249 MB memory:  -> device: 0, name: NVIDIA GeForce RTX 3080 Ti, pci bus id: 0000:18:00.0, compute capability: 8.6\n",
      "2022-04-11 19:07:03.991856: I tensorflow/core/common_runtime/gpu/gpu_device.cc:1525] Created device /job:localhost/replica:0/task:0/device:GPU:1 with 1628 MB memory:  -> device: 1, name: NVIDIA GeForce RTX 3080 Ti, pci bus id: 0000:3b:00.0, compute capability: 8.6\n",
      "2022-04-11 19:07:03.992619: I tensorflow/core/common_runtime/gpu/gpu_device.cc:1525] Created device /job:localhost/replica:0/task:0/device:GPU:2 with 650 MB memory:  -> device: 2, name: NVIDIA GeForce RTX 3080 Ti, pci bus id: 0000:86:00.0, compute capability: 8.6\n",
      "2022-04-11 19:07:03.993572: I tensorflow/core/common_runtime/gpu/gpu_device.cc:1525] Created device /job:localhost/replica:0/task:0/device:GPU:3 with 9687 MB memory:  -> device: 3, name: NVIDIA GeForce RTX 3080 Ti, pci bus id: 0000:af:00.0, compute capability: 8.6\n"
     ]
    }
   ],
   "source": [
    "# Get target and context words for one positive skip-gram.\n",
    "target_word, context_word = positive_skip_grams[0]\n",
    "\n",
    "# Set the number of negative samples per positive context.\n",
    "num_ns = 4\n",
    "\n",
    "context_class = tf.reshape(tf.constant(context_word, dtype=\"int64\"), (1, 1))\n",
    "negative_sampling_candidates, _, _ = tf.random.log_uniform_candidate_sampler(\n",
    "    true_classes=context_class,  # class that should be sampled as 'positive'\n",
    "    num_true=1,  # each positive skip-gram has 1 positive context class\n",
    "    num_sampled=num_ns,  # number of negative context words to sample\n",
    "    unique=True,  # all the negative samples should be unique\n",
    "    range_max=vocab_size,  # pick index of the samples from [0, vocab_size]\n",
    "    seed=SEED,  # seed for reproducibility\n",
    "    name=\"negative_sampling\"  # name of this operation\n",
    ")\n",
    "print(negative_sampling_candidates)\n",
    "print([inverse_vocab[index.numpy()] for index in negative_sampling_candidates][:5])"
   ]
  },
  {
   "cell_type": "code",
   "execution_count": 13,
   "metadata": {},
   "outputs": [],
   "source": [
    "# Generates skip-gram pairs with negative sampling for a list of sequences\n",
    "# (int-encoded sentences) based on window size, number of negative samples\n",
    "# and vocabulary size.\n",
    "def generate_training_data(sequences, window_size, num_ns, vocab_size, seed):\n",
    "  # Elements of each training example are appended to these lists.\n",
    "  targets, contexts, labels = [], [], []\n",
    "\n",
    "  # Build the sampling table for `vocab_size` tokens.\n",
    "  sampling_table = tf.keras.preprocessing.sequence.make_sampling_table(vocab_size)\n",
    "\n",
    "  # Iterate over all sequences (sentences) in the dataset.\n",
    "  for sequence in tqdm.tqdm(sequences):\n",
    "\n",
    "    # Generate positive skip-gram pairs for a sequence (sentence).\n",
    "    positive_skip_grams, _ = tf.keras.preprocessing.sequence.skipgrams(\n",
    "          sequence,\n",
    "          vocabulary_size=vocab_size,\n",
    "          sampling_table=sampling_table,\n",
    "          window_size=window_size,\n",
    "          negative_samples=0)\n",
    "\n",
    "    # Iterate over each positive skip-gram pair to produce training examples\n",
    "    # with a positive context word and negative samples.\n",
    "    for target_word, context_word in positive_skip_grams:\n",
    "      context_class = tf.expand_dims(\n",
    "          tf.constant([context_word], dtype=\"int64\"), 1)\n",
    "      negative_sampling_candidates, _, _ = tf.random.log_uniform_candidate_sampler(\n",
    "          true_classes=context_class,\n",
    "          num_true=1,\n",
    "          num_sampled=num_ns,\n",
    "          unique=True,\n",
    "          range_max=vocab_size,\n",
    "          seed=seed,\n",
    "          name=\"negative_sampling\")\n",
    "\n",
    "      # Build context and label vectors (for one target word)\n",
    "      negative_sampling_candidates = tf.expand_dims(\n",
    "          negative_sampling_candidates, 1)\n",
    "\n",
    "      context = tf.concat([context_class, negative_sampling_candidates], 0)\n",
    "      label = tf.constant([1] + [0]*num_ns, dtype=\"int64\")\n",
    "\n",
    "      # Append each element from the training example to global lists.\n",
    "      targets.append(target_word)\n",
    "      contexts.append(context)\n",
    "      labels.append(label)\n",
    "\n",
    "  return targets, contexts, labels"
   ]
  },
  {
   "cell_type": "code",
   "execution_count": 14,
   "metadata": {},
   "outputs": [],
   "source": [
    "TEXT_DATASET_PATH = os.path.join(DATA_PROCESSED_DIR, 'text_ds.tsv')\n",
    "\n",
    "with open(DATA_TEXT_SEQUENCES_PATH, 'wb') as f:\n",
    "  pickle.dump([line2words(line) for line in CustomIterator(dataset['content'])], f)\n",
    "\n",
    "with open(TEXT_DATASET_PATH, 'w') as f:\n",
    "    for line in CustomIterator(dataset['content']):\n",
    "        print('\\t'.join(line2words(line)), file=f)\n",
    "\n",
    "text_ds = tf.data.TextLineDataset(TEXT_DATASET_PATH)"
   ]
  },
  {
   "cell_type": "code",
   "execution_count": 15,
   "metadata": {},
   "outputs": [],
   "source": [
    "# Now, create a custom standardization function to lowercase the text and\n",
    "# remove punctuation.\n",
    "# def custom_standardization(input_data):\n",
    "#   return line2words(input_data)\n",
    "\n",
    "\n",
    "# Define the vocabulary size and the number of words in a sequence.\n",
    "vocab_size = 4096\n",
    "# sequence_length = 10\n",
    "sequence_length = EXPECT_SENTENSE_LENGTH\n",
    "\n",
    "# Use the `TextVectorization` layer to normalize, split, and map strings to\n",
    "# integers. Set the `output_sequence_length` length to pad all samples to the\n",
    "# same length.\n",
    "vectorize_layer = layers.TextVectorization(\n",
    "    # standardize=custom_standardization,\n",
    "    max_tokens=vocab_size,\n",
    "    output_mode='int',\n",
    "    output_sequence_length=sequence_length)"
   ]
  },
  {
   "cell_type": "code",
   "execution_count": 16,
   "metadata": {},
   "outputs": [],
   "source": [
    "vectorize_layer.adapt(text_ds.batch(1024))"
   ]
  },
  {
   "cell_type": "code",
   "execution_count": 17,
   "metadata": {},
   "outputs": [
    {
     "name": "stdout",
     "output_type": "stream",
     "text": [
      "['', '[UNK]', '，', '的', '。', '了', '是', '在', '也', '和', '我', '都', '电影', '、', '不', '有', '就', '很', '人', '！']\n"
     ]
    }
   ],
   "source": [
    "# Save the created vocabulary for reference.\n",
    "inverse_vocab = vectorize_layer.get_vocabulary()\n",
    "print(inverse_vocab[:20])"
   ]
  },
  {
   "cell_type": "code",
   "execution_count": 18,
   "metadata": {},
   "outputs": [],
   "source": [
    "# Vectorize the data in text_ds.\n",
    "text_vector_ds = text_ds.batch(1024).prefetch(AUTOTUNE).map(vectorize_layer).unbatch()"
   ]
  },
  {
   "cell_type": "code",
   "execution_count": 19,
   "metadata": {},
   "outputs": [
    {
     "name": "stdout",
     "output_type": "stream",
     "text": [
      "21943\n",
      "[1274  256  519 1248    4 3910  123   21    1    1    1   22    0    0\n",
      "    0    0    0    0    0    0    0    0    0    0    0    0    0    0\n",
      "    0    0    0    0    0    0    0    0    0    0    0    0    0    0\n",
      "    0    0    0    0    0    0    0    0    0    0    0    0    0    0\n",
      "    0    0    0    0    0    0    0    0    0    0    0    0] => ['标准', '美国', '科幻', '大片', '。', '参考', '影片', '《', '[UNK]', '[UNK]', '[UNK]', '》', '', '', '', '', '', '', '', '', '', '', '', '', '', '', '', '', '', '', '', '', '', '', '', '', '', '', '', '', '', '', '', '', '', '', '', '', '', '', '', '', '', '', '', '', '', '', '', '', '', '', '', '', '', '', '', '']\n",
      "[3954 1991    1   62  177    1    1    1    5   10 2624  380    0    0\n",
      "    0    0    0    0    0    0    0    0    0    0    0    0    0    0\n",
      "    0    0    0    0    0    0    0    0    0    0    0    0    0    0\n",
      "    0    0    0    0    0    0    0    0    0    0    0    0    0    0\n",
      "    0    0    0    0    0    0    0    0    0    0    0    0] => ['降智', '😅', '[UNK]', '把', '一', '[UNK]', '[UNK]', '[UNK]', '了', '我', '属实', '没想到', '', '', '', '', '', '', '', '', '', '', '', '', '', '', '', '', '', '', '', '', '', '', '', '', '', '', '', '', '', '', '', '', '', '', '', '', '', '', '', '', '', '', '', '', '', '', '', '', '', '', '', '', '', '', '', '']\n"
     ]
    }
   ],
   "source": [
    "sequences = list(text_vector_ds.as_numpy_iterator())\n",
    "print(len(sequences))\n",
    "\n",
    "for seq in sequences[:2]:\n",
    "  print(f\"{seq} => {[inverse_vocab[i] for i in seq]}\")"
   ]
  },
  {
   "cell_type": "code",
   "execution_count": 20,
   "metadata": {},
   "outputs": [
    {
     "name": "stderr",
     "output_type": "stream",
     "text": [
      "100%|██████████| 21943/21943 [01:58<00:00, 185.76it/s]\n"
     ]
    },
    {
     "name": "stdout",
     "output_type": "stream",
     "text": [
      "\n",
      "\n",
      "targets.shape: (317080,)\n",
      "contexts.shape: (317080, 5)\n",
      "labels.shape: (317080, 5)\n"
     ]
    }
   ],
   "source": [
    "targets, contexts, labels = generate_training_data(\n",
    "    sequences=sequences,\n",
    "    window_size=2,\n",
    "    num_ns=4,\n",
    "    vocab_size=vocab_size,\n",
    "    seed=SEED)\n",
    "\n",
    "targets = np.array(targets)\n",
    "contexts = np.array(contexts)[:,:,0]\n",
    "labels = np.array(labels)\n",
    "\n",
    "print('\\n')\n",
    "print(f\"targets.shape: {targets.shape}\")\n",
    "print(f\"contexts.shape: {contexts.shape}\")\n",
    "print(f\"labels.shape: {labels.shape}\")"
   ]
  },
  {
   "cell_type": "markdown",
   "metadata": {},
   "source": [
    "## 训练 word2vec"
   ]
  },
  {
   "cell_type": "code",
   "execution_count": 21,
   "metadata": {},
   "outputs": [],
   "source": [
    "BATCH_SIZE = 1024\n",
    "BUFFER_SIZE = 10000\n",
    "\n",
    "dataset = tf.data.Dataset.from_tensor_slices(((targets, contexts), labels))\n",
    "dataset = dataset.shuffle(BUFFER_SIZE).batch(BATCH_SIZE)\n",
    "# dataset = dataset.shuffle(BUFFER_SIZE).batch(BATCH_SIZE, drop_remainder=True)\n",
    "dataset = dataset.cache().prefetch(buffer_size=AUTOTUNE)\n",
    "\n",
    "# print(dataset)"
   ]
  },
  {
   "cell_type": "code",
   "execution_count": 22,
   "metadata": {},
   "outputs": [
    {
     "name": "stdout",
     "output_type": "stream",
     "text": [
      "<PrefetchDataset element_spec=((TensorSpec(shape=(None,), dtype=tf.int64, name=None), TensorSpec(shape=(None, 5), dtype=tf.int64, name=None)), TensorSpec(shape=(None, 5), dtype=tf.int64, name=None))>\n"
     ]
    }
   ],
   "source": [
    "dataset = dataset.cache().prefetch(buffer_size=AUTOTUNE)\n",
    "print(dataset)"
   ]
  },
  {
   "cell_type": "code",
   "execution_count": 23,
   "metadata": {},
   "outputs": [],
   "source": [
    "class Word2Vec(tf.keras.Model):\n",
    "  def __init__(self, vocab_size, embedding_dim):\n",
    "    super(Word2Vec, self).__init__()\n",
    "    self.target_embedding = layers.Embedding(vocab_size,\n",
    "                                      embedding_dim,\n",
    "                                      input_length=1,\n",
    "                                      name=\"w2v_embedding\")\n",
    "    self.context_embedding = layers.Embedding(vocab_size,\n",
    "                                       embedding_dim,\n",
    "                                       input_length=num_ns+1)\n",
    "\n",
    "  def call(self, pair):\n",
    "    target, context = pair\n",
    "    # target: (batch, dummy?)  # The dummy axis doesn't exist in TF2.7+\n",
    "    # context: (batch, context)\n",
    "    if len(target.shape) == 2:\n",
    "      target = tf.squeeze(target, axis=1)\n",
    "    # target: (batch,)\n",
    "    word_emb = self.target_embedding(target)\n",
    "    # word_emb: (batch, embed)\n",
    "    context_emb = self.context_embedding(context)\n",
    "    # context_emb: (batch, context, embed)\n",
    "    dots = tf.einsum('be,bce->bc', word_emb, context_emb)\n",
    "    # dots: (batch, context)\n",
    "    return dots"
   ]
  },
  {
   "cell_type": "code",
   "execution_count": 24,
   "metadata": {},
   "outputs": [],
   "source": [
    "embedding_dim = 256\n",
    "\n",
    "word2vec = Word2Vec(vocab_size, embedding_dim)\n",
    "word2vec.compile(optimizer='adam',\n",
    "                 loss=tf.keras.losses.CategoricalCrossentropy(from_logits=True),\n",
    "                 metrics=['accuracy'], run_eagerly=True)"
   ]
  },
  {
   "cell_type": "code",
   "execution_count": 25,
   "metadata": {},
   "outputs": [],
   "source": [
    "tensorboard_callback = tf.keras.callbacks.TensorBoard(log_dir=\"logs\")"
   ]
  },
  {
   "cell_type": "code",
   "execution_count": 26,
   "metadata": {},
   "outputs": [
    {
     "data": {
      "text/plain": [
       "<PrefetchDataset element_spec=((TensorSpec(shape=(None,), dtype=tf.int64, name=None), TensorSpec(shape=(None, 5), dtype=tf.int64, name=None)), TensorSpec(shape=(None, 5), dtype=tf.int64, name=None))>"
      ]
     },
     "execution_count": 26,
     "metadata": {},
     "output_type": "execute_result"
    }
   ],
   "source": [
    "dataset"
   ]
  },
  {
   "cell_type": "code",
   "execution_count": 27,
   "metadata": {},
   "outputs": [
    {
     "name": "stdout",
     "output_type": "stream",
     "text": [
      "Epoch 1/100\n",
      "310/310 [==============================] - 5s 14ms/step - loss: 1.4994 - accuracy: 0.3776\n",
      "Epoch 2/100\n",
      "310/310 [==============================] - 5s 16ms/step - loss: 1.3727 - accuracy: 0.4552\n",
      "Epoch 3/100\n",
      "310/310 [==============================] - 5s 15ms/step - loss: 1.2852 - accuracy: 0.5091\n",
      "Epoch 4/100\n",
      "310/310 [==============================] - 4s 14ms/step - loss: 1.1897 - accuracy: 0.5586\n",
      "Epoch 5/100\n",
      "310/310 [==============================] - 4s 14ms/step - loss: 1.0921 - accuracy: 0.6042\n",
      "Epoch 6/100\n",
      "310/310 [==============================] - 4s 14ms/step - loss: 0.9963 - accuracy: 0.6474\n",
      "Epoch 7/100\n",
      "310/310 [==============================] - 4s 14ms/step - loss: 0.9055 - accuracy: 0.6864\n",
      "Epoch 8/100\n",
      "310/310 [==============================] - 4s 14ms/step - loss: 0.8221 - accuracy: 0.7225\n",
      "Epoch 9/100\n",
      "310/310 [==============================] - 4s 14ms/step - loss: 0.7475 - accuracy: 0.7537\n",
      "Epoch 10/100\n",
      "310/310 [==============================] - 4s 14ms/step - loss: 0.6820 - accuracy: 0.7812\n",
      "Epoch 11/100\n",
      "310/310 [==============================] - 4s 14ms/step - loss: 0.6252 - accuracy: 0.8037\n",
      "Epoch 12/100\n",
      "310/310 [==============================] - 4s 14ms/step - loss: 0.5764 - accuracy: 0.8220\n",
      "Epoch 13/100\n",
      "310/310 [==============================] - 4s 14ms/step - loss: 0.5346 - accuracy: 0.8367\n",
      "Epoch 14/100\n",
      "310/310 [==============================] - 4s 13ms/step - loss: 0.4990 - accuracy: 0.8473\n",
      "Epoch 15/100\n",
      "310/310 [==============================] - 4s 13ms/step - loss: 0.4686 - accuracy: 0.8557\n",
      "Epoch 16/100\n",
      "310/310 [==============================] - 4s 13ms/step - loss: 0.4428 - accuracy: 0.8614\n",
      "Epoch 17/100\n",
      "310/310 [==============================] - 4s 13ms/step - loss: 0.4207 - accuracy: 0.8660\n",
      "Epoch 18/100\n",
      "310/310 [==============================] - 4s 14ms/step - loss: 0.4019 - accuracy: 0.8693\n",
      "Epoch 19/100\n",
      "310/310 [==============================] - 4s 13ms/step - loss: 0.3858 - accuracy: 0.8720\n",
      "Epoch 20/100\n",
      "310/310 [==============================] - 4s 14ms/step - loss: 0.3720 - accuracy: 0.8740\n",
      "Epoch 21/100\n",
      "310/310 [==============================] - 4s 13ms/step - loss: 0.3601 - accuracy: 0.8754\n",
      "Epoch 22/100\n",
      "310/310 [==============================] - 4s 14ms/step - loss: 0.3498 - accuracy: 0.8765\n",
      "Epoch 23/100\n",
      "310/310 [==============================] - 4s 14ms/step - loss: 0.3409 - accuracy: 0.8772\n",
      "Epoch 24/100\n",
      "310/310 [==============================] - 4s 14ms/step - loss: 0.3332 - accuracy: 0.8778\n",
      "Epoch 25/100\n",
      "310/310 [==============================] - 4s 14ms/step - loss: 0.3265 - accuracy: 0.8782\n",
      "Epoch 26/100\n",
      "310/310 [==============================] - 4s 14ms/step - loss: 0.3206 - accuracy: 0.8787\n",
      "Epoch 27/100\n",
      "310/310 [==============================] - 4s 14ms/step - loss: 0.3154 - accuracy: 0.8789\n",
      "Epoch 28/100\n",
      "310/310 [==============================] - 4s 14ms/step - loss: 0.3109 - accuracy: 0.8790\n",
      "Epoch 29/100\n",
      "310/310 [==============================] - 4s 13ms/step - loss: 0.3068 - accuracy: 0.8791\n",
      "Epoch 30/100\n",
      "310/310 [==============================] - 4s 14ms/step - loss: 0.3033 - accuracy: 0.8794\n",
      "Epoch 31/100\n",
      "310/310 [==============================] - 4s 14ms/step - loss: 0.3001 - accuracy: 0.8795\n",
      "Epoch 32/100\n",
      "310/310 [==============================] - 4s 14ms/step - loss: 0.2973 - accuracy: 0.8796\n",
      "Epoch 33/100\n",
      "310/310 [==============================] - 4s 14ms/step - loss: 0.2947 - accuracy: 0.8797\n",
      "Epoch 34/100\n",
      "310/310 [==============================] - 4s 14ms/step - loss: 0.2925 - accuracy: 0.8796\n",
      "Epoch 35/100\n",
      "310/310 [==============================] - 4s 14ms/step - loss: 0.2904 - accuracy: 0.8797\n",
      "Epoch 36/100\n",
      "310/310 [==============================] - 5s 16ms/step - loss: 0.2886 - accuracy: 0.8798\n",
      "Epoch 37/100\n",
      "310/310 [==============================] - 4s 13ms/step - loss: 0.2869 - accuracy: 0.8796\n",
      "Epoch 38/100\n",
      "310/310 [==============================] - 4s 14ms/step - loss: 0.2854 - accuracy: 0.8796\n",
      "Epoch 39/100\n",
      "310/310 [==============================] - 4s 14ms/step - loss: 0.2840 - accuracy: 0.8796\n",
      "Epoch 40/100\n",
      "310/310 [==============================] - 4s 14ms/step - loss: 0.2827 - accuracy: 0.8794\n",
      "Epoch 41/100\n",
      "310/310 [==============================] - 4s 14ms/step - loss: 0.2816 - accuracy: 0.8793\n",
      "Epoch 42/100\n",
      "310/310 [==============================] - 4s 13ms/step - loss: 0.2805 - accuracy: 0.8793\n",
      "Epoch 43/100\n",
      "310/310 [==============================] - 4s 13ms/step - loss: 0.2795 - accuracy: 0.8792\n",
      "Epoch 44/100\n",
      "310/310 [==============================] - 4s 13ms/step - loss: 0.2786 - accuracy: 0.8792\n",
      "Epoch 45/100\n",
      "310/310 [==============================] - 4s 14ms/step - loss: 0.2778 - accuracy: 0.8791\n",
      "Epoch 46/100\n",
      "310/310 [==============================] - 4s 14ms/step - loss: 0.2770 - accuracy: 0.8790\n",
      "Epoch 47/100\n",
      "310/310 [==============================] - 4s 14ms/step - loss: 0.2763 - accuracy: 0.8790\n",
      "Epoch 48/100\n",
      "310/310 [==============================] - 4s 14ms/step - loss: 0.2757 - accuracy: 0.8790\n",
      "Epoch 49/100\n",
      "310/310 [==============================] - 4s 13ms/step - loss: 0.2751 - accuracy: 0.8790\n",
      "Epoch 50/100\n",
      "310/310 [==============================] - 4s 13ms/step - loss: 0.2745 - accuracy: 0.8790\n",
      "Epoch 51/100\n",
      "310/310 [==============================] - 5s 16ms/step - loss: 0.2739 - accuracy: 0.8790\n",
      "Epoch 52/100\n",
      "310/310 [==============================] - 4s 14ms/step - loss: 0.2734 - accuracy: 0.8790\n",
      "Epoch 53/100\n",
      "310/310 [==============================] - 4s 14ms/step - loss: 0.2730 - accuracy: 0.8790\n",
      "Epoch 54/100\n",
      "310/310 [==============================] - 4s 13ms/step - loss: 0.2725 - accuracy: 0.8790\n",
      "Epoch 55/100\n",
      "310/310 [==============================] - 4s 13ms/step - loss: 0.2721 - accuracy: 0.8790\n",
      "Epoch 56/100\n",
      "310/310 [==============================] - 4s 13ms/step - loss: 0.2717 - accuracy: 0.8789\n",
      "Epoch 57/100\n",
      "310/310 [==============================] - 4s 14ms/step - loss: 0.2713 - accuracy: 0.8789\n",
      "Epoch 58/100\n",
      "310/310 [==============================] - 4s 14ms/step - loss: 0.2710 - accuracy: 0.8789\n",
      "Epoch 59/100\n",
      "310/310 [==============================] - 4s 14ms/step - loss: 0.2707 - accuracy: 0.8789\n",
      "Epoch 60/100\n",
      "310/310 [==============================] - 4s 14ms/step - loss: 0.2703 - accuracy: 0.8788\n",
      "Epoch 61/100\n",
      "310/310 [==============================] - 4s 14ms/step - loss: 0.2700 - accuracy: 0.8788\n",
      "Epoch 62/100\n",
      "310/310 [==============================] - 4s 14ms/step - loss: 0.2698 - accuracy: 0.8788\n",
      "Epoch 63/100\n",
      "310/310 [==============================] - 4s 14ms/step - loss: 0.2695 - accuracy: 0.8789\n",
      "Epoch 64/100\n",
      "310/310 [==============================] - 4s 14ms/step - loss: 0.2692 - accuracy: 0.8788\n",
      "Epoch 65/100\n",
      "310/310 [==============================] - 4s 14ms/step - loss: 0.2690 - accuracy: 0.8788\n",
      "Epoch 66/100\n",
      "310/310 [==============================] - 4s 14ms/step - loss: 0.2687 - accuracy: 0.8788\n",
      "Epoch 67/100\n",
      "310/310 [==============================] - 4s 14ms/step - loss: 0.2685 - accuracy: 0.8788\n",
      "Epoch 68/100\n",
      "310/310 [==============================] - 4s 13ms/step - loss: 0.2683 - accuracy: 0.8788\n",
      "Epoch 69/100\n",
      "310/310 [==============================] - 4s 14ms/step - loss: 0.2681 - accuracy: 0.8788\n",
      "Epoch 70/100\n",
      "310/310 [==============================] - 4s 14ms/step - loss: 0.2679 - accuracy: 0.8787\n",
      "Epoch 71/100\n",
      "310/310 [==============================] - 4s 14ms/step - loss: 0.2677 - accuracy: 0.8788\n",
      "Epoch 72/100\n",
      "310/310 [==============================] - 4s 14ms/step - loss: 0.2675 - accuracy: 0.8787\n",
      "Epoch 73/100\n",
      "310/310 [==============================] - 4s 14ms/step - loss: 0.2673 - accuracy: 0.8788\n",
      "Epoch 74/100\n",
      "310/310 [==============================] - 4s 13ms/step - loss: 0.2672 - accuracy: 0.8788\n",
      "Epoch 75/100\n",
      "310/310 [==============================] - 4s 13ms/step - loss: 0.2670 - accuracy: 0.8788\n",
      "Epoch 76/100\n",
      "310/310 [==============================] - 4s 13ms/step - loss: 0.2668 - accuracy: 0.8788\n",
      "Epoch 77/100\n",
      "310/310 [==============================] - 4s 14ms/step - loss: 0.2667 - accuracy: 0.8788\n",
      "Epoch 78/100\n",
      "310/310 [==============================] - 4s 14ms/step - loss: 0.2665 - accuracy: 0.8788\n",
      "Epoch 79/100\n",
      "310/310 [==============================] - 4s 14ms/step - loss: 0.2664 - accuracy: 0.8788\n",
      "Epoch 80/100\n",
      "310/310 [==============================] - 4s 14ms/step - loss: 0.2663 - accuracy: 0.8788\n",
      "Epoch 81/100\n",
      "310/310 [==============================] - 4s 14ms/step - loss: 0.2661 - accuracy: 0.8788\n",
      "Epoch 82/100\n",
      "310/310 [==============================] - 4s 14ms/step - loss: 0.2660 - accuracy: 0.8788\n",
      "Epoch 83/100\n",
      "310/310 [==============================] - 4s 14ms/step - loss: 0.2659 - accuracy: 0.8788\n",
      "Epoch 84/100\n",
      "310/310 [==============================] - 4s 14ms/step - loss: 0.2657 - accuracy: 0.8788\n",
      "Epoch 85/100\n",
      "310/310 [==============================] - 4s 13ms/step - loss: 0.2656 - accuracy: 0.8788\n",
      "Epoch 86/100\n",
      "310/310 [==============================] - 4s 14ms/step - loss: 0.2655 - accuracy: 0.8788\n",
      "Epoch 87/100\n",
      "310/310 [==============================] - 4s 14ms/step - loss: 0.2654 - accuracy: 0.8789\n",
      "Epoch 88/100\n",
      "310/310 [==============================] - 4s 13ms/step - loss: 0.2653 - accuracy: 0.8789\n",
      "Epoch 89/100\n",
      "310/310 [==============================] - 4s 13ms/step - loss: 0.2652 - accuracy: 0.8789\n",
      "Epoch 90/100\n",
      "310/310 [==============================] - 4s 14ms/step - loss: 0.2651 - accuracy: 0.8789\n",
      "Epoch 91/100\n",
      "310/310 [==============================] - 4s 14ms/step - loss: 0.2650 - accuracy: 0.8789\n",
      "Epoch 92/100\n",
      "310/310 [==============================] - 4s 14ms/step - loss: 0.2649 - accuracy: 0.8789\n",
      "Epoch 93/100\n",
      "310/310 [==============================] - 4s 14ms/step - loss: 0.2648 - accuracy: 0.8789\n",
      "Epoch 94/100\n",
      "310/310 [==============================] - 4s 14ms/step - loss: 0.2647 - accuracy: 0.8789\n",
      "Epoch 95/100\n",
      "310/310 [==============================] - 4s 14ms/step - loss: 0.2646 - accuracy: 0.8789\n",
      "Epoch 96/100\n",
      "310/310 [==============================] - 4s 14ms/step - loss: 0.2645 - accuracy: 0.8789\n",
      "Epoch 97/100\n",
      "310/310 [==============================] - 4s 14ms/step - loss: 0.2644 - accuracy: 0.8789\n",
      "Epoch 98/100\n",
      "310/310 [==============================] - 4s 14ms/step - loss: 0.2643 - accuracy: 0.8789\n",
      "Epoch 99/100\n",
      "310/310 [==============================] - 5s 16ms/step - loss: 0.2642 - accuracy: 0.8790\n",
      "Epoch 100/100\n",
      "310/310 [==============================] - 4s 14ms/step - loss: 0.2642 - accuracy: 0.8790\n"
     ]
    },
    {
     "data": {
      "text/plain": [
       "<keras.callbacks.History at 0x7f81dc18d7d0>"
      ]
     },
     "execution_count": 27,
     "metadata": {},
     "output_type": "execute_result"
    }
   ],
   "source": [
    "word2vec.fit(dataset, epochs=100, callbacks=[tensorboard_callback])\n",
    "# word2vec.fit(dataset, epochs=20)"
   ]
  },
  {
   "cell_type": "code",
   "execution_count": 28,
   "metadata": {},
   "outputs": [
    {
     "name": "stdout",
     "output_type": "stream",
     "text": [
      "Model: \"word2_vec\"\n",
      "_________________________________________________________________\n",
      " Layer (type)                Output Shape              Param #   \n",
      "=================================================================\n",
      " w2v_embedding (Embedding)   multiple                  1048576   \n",
      "                                                                 \n",
      " embedding (Embedding)       multiple                  1048576   \n",
      "                                                                 \n",
      "=================================================================\n",
      "Total params: 2,097,152\n",
      "Trainable params: 2,097,152\n",
      "Non-trainable params: 0\n",
      "_________________________________________________________________\n"
     ]
    }
   ],
   "source": [
    "word2vec.summary()"
   ]
  },
  {
   "cell_type": "code",
   "execution_count": 29,
   "metadata": {},
   "outputs": [],
   "source": [
    "#docs_infra: no_execute\n",
    "# %tensorboard --logdir logs"
   ]
  },
  {
   "cell_type": "code",
   "execution_count": 30,
   "metadata": {},
   "outputs": [],
   "source": [
    "weights = word2vec.get_layer('w2v_embedding').get_weights()[0]\n",
    "vocab = vectorize_layer.get_vocabulary()"
   ]
  },
  {
   "cell_type": "code",
   "execution_count": 31,
   "metadata": {},
   "outputs": [],
   "source": [
    "vf = open(DATA_W2V_VECTOR_PATH, 'w')\n",
    "mf = open(DATA_W2V_META_PATH, 'w')\n",
    "\n",
    "\n",
    "for index, word in enumerate(vocab):\n",
    "  if index == 0:\n",
    "    continue  # skip 0, it's padding.\n",
    "  vec = weights[index]\n",
    "  vf.write('\\t'.join([str(x) for x in vec]) + \"\\n\")\n",
    "  mf.write(word + \"\\n\")\n",
    "  \n",
    "mf.close()\n",
    "vf.close()"
   ]
  }
 ],
 "metadata": {
  "interpreter": {
   "hash": "798719e834ce2667b284169792ed9be744f500b1bbad4a58ecba241c6661f77e"
  },
  "kernelspec": {
   "display_name": "Python 3.7.13 ('news')",
   "language": "python",
   "name": "python3"
  },
  "language_info": {
   "codemirror_mode": {
    "name": "ipython",
    "version": 3
   },
   "file_extension": ".py",
   "mimetype": "text/x-python",
   "name": "python",
   "nbconvert_exporter": "python",
   "pygments_lexer": "ipython3",
   "version": "3.7.13"
  },
  "orig_nbformat": 4
 },
 "nbformat": 4,
 "nbformat_minor": 2
}
