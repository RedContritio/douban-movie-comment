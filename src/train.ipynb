{
 "cells": [
  {
   "cell_type": "code",
   "execution_count": 1,
   "metadata": {},
   "outputs": [],
   "source": [
    "import numpy as np\n",
    "import pandas as pd\n",
    "import random\n",
    "import jieba\n",
    "import os\n",
    "import pickle\n",
    "import tensorflow as tf\n",
    "from tensorflow import keras\n",
    "from utils import DATA_TEXT_SEQUENCES_PATH, DATA_LABELS_PATH\n",
    "from utils import DATA_W2V_VECTOR_PATH, DATA_W2V_META_PATH\n",
    "from utils import CustomIterator\n",
    "\n",
    "import matplotlib.pyplot as plt"
   ]
  },
  {
   "cell_type": "code",
   "execution_count": 2,
   "metadata": {},
   "outputs": [
    {
     "name": "stdout",
     "output_type": "stream",
     "text": [
      "4 Physical GPUs, 4 Logical GPUs\n"
     ]
    },
    {
     "name": "stderr",
     "output_type": "stream",
     "text": [
      "2022-04-11 12:36:11.425837: I tensorflow/core/platform/cpu_feature_guard.cc:151] This TensorFlow binary is optimized with oneAPI Deep Neural Network Library (oneDNN) to use the following CPU instructions in performance-critical operations:  AVX2 AVX512F FMA\n",
      "To enable them in other operations, rebuild TensorFlow with the appropriate compiler flags.\n",
      "2022-04-11 12:36:13.896066: I tensorflow/core/common_runtime/gpu/gpu_device.cc:1525] Created device /job:localhost/replica:0/task:0/device:GPU:0 with 559 MB memory:  -> device: 0, name: NVIDIA GeForce RTX 3080 Ti, pci bus id: 0000:18:00.0, compute capability: 8.6\n",
      "2022-04-11 12:36:13.897171: I tensorflow/core/common_runtime/gpu/gpu_device.cc:1525] Created device /job:localhost/replica:0/task:0/device:GPU:1 with 8550 MB memory:  -> device: 1, name: NVIDIA GeForce RTX 3080 Ti, pci bus id: 0000:3b:00.0, compute capability: 8.6\n",
      "2022-04-11 12:36:13.898019: I tensorflow/core/common_runtime/gpu/gpu_device.cc:1525] Created device /job:localhost/replica:0/task:0/device:GPU:2 with 650 MB memory:  -> device: 2, name: NVIDIA GeForce RTX 3080 Ti, pci bus id: 0000:86:00.0, compute capability: 8.6\n",
      "2022-04-11 12:36:13.899032: I tensorflow/core/common_runtime/gpu/gpu_device.cc:1525] Created device /job:localhost/replica:0/task:0/device:GPU:3 with 9687 MB memory:  -> device: 3, name: NVIDIA GeForce RTX 3080 Ti, pci bus id: 0000:af:00.0, compute capability: 8.6\n"
     ]
    }
   ],
   "source": [
    "gpus = tf.config.experimental.list_physical_devices('GPU')\n",
    "if gpus:\n",
    "    try:\n",
    "        # Currently, memory growth needs to be the same across GPUs\n",
    "        for gpu in gpus:\n",
    "            tf.config.experimental.set_memory_growth(gpu, True)\n",
    "        logical_gpus = tf.config.experimental.list_logical_devices('GPU')\n",
    "        print(len(gpus), \"Physical GPUs,\", len(logical_gpus), \"Logical GPUs\")\n",
    "    except RuntimeError as e:\n",
    "        # Memory growth must be set before GPUs have been initialized\n",
    "        print(e)"
   ]
  },
  {
   "cell_type": "code",
   "execution_count": 3,
   "metadata": {},
   "outputs": [
    {
     "name": "stdout",
     "output_type": "stream",
     "text": [
      "['标准', '美国', '科幻', '大片', '。', '参考', '影片', '《', '世界末日', ' ', 'Armageddon', ' ', '(', '1998', ')', '》']\n",
      "[1276, 258, 521, 1250, 6, 3912, 125, 23, 2, 2, 2, 2, 2, 2, 2, 24]\n"
     ]
    }
   ],
   "source": [
    "with open(DATA_W2V_VECTOR_PATH, 'r') as vf:\n",
    "    with open(DATA_W2V_META_PATH, 'r') as mf:\n",
    "        w2v_vector = np.loadtxt(vf)\n",
    "        w2v_meta = pd.read_csv(mf, sep='\\t', header=None)\n",
    "\n",
    "word2index = dict([(row[0], idx + 3) for idx, row in w2v_meta.iterrows()])\n",
    "word2index['<PAD>'] = 0\n",
    "word2index['<START>'] = 1\n",
    "word2index['<UNK>'] = 2\n",
    "word2index['<UNUSED>'] = 3\n",
    "\n",
    "index2word = dict([(i, w) for w, i in word2index.items()])\n",
    "\n",
    "def decode_review(seq):\n",
    "    return ' '.join([index2word.get(i, '?') for i in seq])\n",
    "\n",
    "def encode_review(words):\n",
    "    return [word2index.get(w, 2) for w in words]\n",
    "\n",
    "\n",
    "text_sequences = pickle.load(open(DATA_TEXT_SEQUENCES_PATH, 'rb'))\n",
    "labels = pickle.load(open(DATA_LABELS_PATH, 'rb'))\n",
    "\n",
    "print(text_sequences[0])\n",
    "print(encode_review(text_sequences[0]))\n",
    "# print(decode_review(sequences[0]))"
   ]
  },
  {
   "cell_type": "code",
   "execution_count": 4,
   "metadata": {},
   "outputs": [
    {
     "name": "stdout",
     "output_type": "stream",
     "text": [
      "(4102, 128) 4102 128\n"
     ]
    }
   ],
   "source": [
    "vocab_size = len(word2index) + 3\n",
    "vector_length = len(w2v_vector[0])\n",
    "\n",
    "embeddings_matrix = np.array([np.zeros(vector_length) for _ in range(3)] + [w2v_vector[i - 3] for w, i in word2index.items()])\n",
    "\n",
    "print(embeddings_matrix.shape, vocab_size, vector_length)\n",
    "\n",
    "# embeddings_matrix = embeddings_matrix.tolist()"
   ]
  },
  {
   "cell_type": "code",
   "execution_count": 5,
   "metadata": {},
   "outputs": [],
   "source": [
    "assert(len(text_sequences) == len(labels))\n",
    "\n",
    "val_size = 0.25\n",
    "\n",
    "idx = list(range(len(labels)))\n",
    "\n",
    "random.shuffle(idx)\n",
    "\n",
    "dataset_train_idx, dataset_val_idx = idx[int(val_size * len(idx)):], idx[:int(val_size * len(idx))]\n",
    "\n",
    "train_data = [[word2index.get(w, 0) for w in text_sequences[i]] for i in dataset_train_idx]\n",
    "val_data = [[word2index.get(w, 0) for w in text_sequences[i]] for i in dataset_val_idx]\n",
    "\n",
    "train_labels = [labels[i] for i in dataset_train_idx]\n",
    "val_labels = [labels[i] for i in dataset_val_idx]"
   ]
  },
  {
   "cell_type": "code",
   "execution_count": 6,
   "metadata": {},
   "outputs": [],
   "source": [
    "MAX_SEQUENCE_LENGTH = 128\n",
    "\n",
    "train_data = keras.preprocessing.sequence.pad_sequences(train_data,\n",
    "                                                        value=word2index[\"<PAD>\"],\n",
    "                                                        padding='post',\n",
    "                                                        maxlen=MAX_SEQUENCE_LENGTH)\n",
    "\n",
    "val_data = keras.preprocessing.sequence.pad_sequences(val_data,\n",
    "                                                      value=word2index[\"<PAD>\"],\n",
    "                                                      padding='post',\n",
    "                                                      maxlen=MAX_SEQUENCE_LENGTH)"
   ]
  },
  {
   "cell_type": "code",
   "execution_count": 7,
   "metadata": {},
   "outputs": [],
   "source": [
    "\n",
    "train_data = np.array(train_data).astype(np.int32)\n",
    "val_data = np.array(val_data).astype(np.int32)\n",
    "\n",
    "train_labels = np.array(train_labels).astype(np.float32)\n",
    "val_labels = np.array(val_labels).astype(np.float32)"
   ]
  },
  {
   "cell_type": "code",
   "execution_count": 8,
   "metadata": {},
   "outputs": [
    {
     "name": "stdout",
     "output_type": "stream",
     "text": [
      "[  12  189   80   62   81    0  220    0    0    0    5   88    0    0\n",
      "  108   26    0    0 1891    5   27    0    0    0    0    0    0    0\n",
      "    0    0    0    0    0    0    0    0    0    0    0    0    0    0\n",
      "    0    0    0    0    0    0    0    0    0    0    0    0    0    0\n",
      "    0    0    0    0    0    0    0    0    0    0    0    0    0    0\n",
      "    0    0    0    0    0    0    0    0    0    0    0    0    0    0\n",
      "    0    0    0    0    0    0    0    0    0    0    0    0    0    0\n",
      "    0    0    0    0    0    0    0    0    0    0    0    0    0    0\n",
      "    0    0    0    0    0    0    0    0    0    0    0    0    0    0\n",
      "    0    0]\n"
     ]
    }
   ],
   "source": [
    "print(train_data[0])"
   ]
  },
  {
   "cell_type": "code",
   "execution_count": 9,
   "metadata": {},
   "outputs": [
    {
     "name": "stdout",
     "output_type": "stream",
     "text": [
      "[3. 2. 3. ... 2. 4. 3.]\n"
     ]
    }
   ],
   "source": [
    "print(train_labels)"
   ]
  },
  {
   "cell_type": "markdown",
   "metadata": {},
   "source": [
    "## Train"
   ]
  },
  {
   "cell_type": "code",
   "execution_count": 10,
   "metadata": {},
   "outputs": [
    {
     "name": "stdout",
     "output_type": "stream",
     "text": [
      "Model: \"sequential\"\n",
      "_________________________________________________________________\n",
      " Layer (type)                Output Shape              Param #   \n",
      "=================================================================\n",
      " embedding (Embedding)       (None, 128, 128)          525056    \n",
      "                                                                 \n",
      " global_average_pooling1d (G  (None, 128)              0         \n",
      " lobalAveragePooling1D)                                          \n",
      "                                                                 \n",
      " dense (Dense)               (None, 512)               66048     \n",
      "                                                                 \n",
      " dense_1 (Dense)             (None, 64)                32832     \n",
      "                                                                 \n",
      " dense_2 (Dense)             (None, 1)                 65        \n",
      "                                                                 \n",
      "=================================================================\n",
      "Total params: 624,001\n",
      "Trainable params: 98,945\n",
      "Non-trainable params: 525,056\n",
      "_________________________________________________________________\n"
     ]
    }
   ],
   "source": [
    "model = keras.Sequential()\n",
    "\n",
    "embedding_layer = keras.layers.Embedding(vocab_size,\n",
    "                            vector_length, \n",
    "                            weights=[embeddings_matrix],\n",
    "                            input_length=MAX_SEQUENCE_LENGTH,\n",
    "                            trainable=False\n",
    "                            )\n",
    "\n",
    "\n",
    "model.add(embedding_layer)\n",
    "model.add(keras.layers.GlobalAveragePooling1D())\n",
    "# model.add(keras.layers.Dense(vector_length, activation='relu'))\n",
    "model.add(keras.layers.Dense(512, activation='relu'))\n",
    "model.add(keras.layers.Dense(64, activation='relu'))\n",
    "model.add(keras.layers.Dense(1))\n",
    "\n",
    "model.summary()"
   ]
  },
  {
   "cell_type": "code",
   "execution_count": 11,
   "metadata": {},
   "outputs": [],
   "source": [
    "model.compile(optimizer='adam',\n",
    "              loss='mean_squared_error',\n",
    "              metrics=['accuracy'])"
   ]
  },
  {
   "cell_type": "code",
   "execution_count": 12,
   "metadata": {},
   "outputs": [
    {
     "name": "stdout",
     "output_type": "stream",
     "text": [
      "Epoch 1/40\n",
      "28/33 [========================>.....] - ETA: 0s - loss: 6.3350 - accuracy: 0.0414     "
     ]
    },
    {
     "name": "stderr",
     "output_type": "stream",
     "text": [
      "2022-04-11 12:36:18.680490: I tensorflow/stream_executor/cuda/cuda_blas.cc:1786] TensorFloat-32 will be used for the matrix multiplication. This will only be logged once.\n"
     ]
    },
    {
     "name": "stdout",
     "output_type": "stream",
     "text": [
      "33/33 [==============================] - 2s 11ms/step - loss: 5.9323 - accuracy: 0.0445 - val_loss: 2.9261 - val_accuracy: 0.0516\n",
      "Epoch 2/40\n",
      "33/33 [==============================] - 0s 6ms/step - loss: 1.7053 - accuracy: 0.0578 - val_loss: 1.1538 - val_accuracy: 0.0516\n",
      "Epoch 3/40\n",
      "33/33 [==============================] - 0s 6ms/step - loss: 1.1381 - accuracy: 0.0578 - val_loss: 1.0922 - val_accuracy: 0.0516\n",
      "Epoch 4/40\n",
      "33/33 [==============================] - 0s 6ms/step - loss: 1.1048 - accuracy: 0.0578 - val_loss: 1.0903 - val_accuracy: 0.0516\n",
      "Epoch 5/40\n",
      "33/33 [==============================] - 0s 6ms/step - loss: 1.0971 - accuracy: 0.0578 - val_loss: 1.0859 - val_accuracy: 0.0516\n",
      "Epoch 6/40\n",
      "33/33 [==============================] - 0s 6ms/step - loss: 1.0945 - accuracy: 0.0578 - val_loss: 1.1074 - val_accuracy: 0.0516\n",
      "Epoch 7/40\n",
      "33/33 [==============================] - 0s 6ms/step - loss: 1.0944 - accuracy: 0.0578 - val_loss: 1.0823 - val_accuracy: 0.0516\n",
      "Epoch 8/40\n",
      "33/33 [==============================] - 0s 5ms/step - loss: 1.0894 - accuracy: 0.0578 - val_loss: 1.0830 - val_accuracy: 0.0516\n",
      "Epoch 9/40\n",
      "33/33 [==============================] - 0s 5ms/step - loss: 1.0878 - accuracy: 0.0578 - val_loss: 1.0826 - val_accuracy: 0.0516\n",
      "Epoch 10/40\n",
      "33/33 [==============================] - 0s 5ms/step - loss: 1.0878 - accuracy: 0.0578 - val_loss: 1.0852 - val_accuracy: 0.0516\n",
      "Epoch 11/40\n",
      "33/33 [==============================] - 0s 6ms/step - loss: 1.0876 - accuracy: 0.0578 - val_loss: 1.0877 - val_accuracy: 0.0516\n",
      "Epoch 12/40\n",
      "33/33 [==============================] - 0s 6ms/step - loss: 1.0895 - accuracy: 0.0578 - val_loss: 1.0840 - val_accuracy: 0.0516\n",
      "Epoch 13/40\n",
      "33/33 [==============================] - 0s 6ms/step - loss: 1.0837 - accuracy: 0.0578 - val_loss: 1.0825 - val_accuracy: 0.0516\n",
      "Epoch 14/40\n",
      "33/33 [==============================] - 0s 6ms/step - loss: 1.0838 - accuracy: 0.0578 - val_loss: 1.0825 - val_accuracy: 0.0516\n",
      "Epoch 15/40\n",
      "33/33 [==============================] - 0s 6ms/step - loss: 1.0791 - accuracy: 0.0578 - val_loss: 1.0866 - val_accuracy: 0.0516\n",
      "Epoch 16/40\n",
      "33/33 [==============================] - 0s 6ms/step - loss: 1.0823 - accuracy: 0.0578 - val_loss: 1.0843 - val_accuracy: 0.0516\n",
      "Epoch 17/40\n",
      "33/33 [==============================] - 0s 6ms/step - loss: 1.0770 - accuracy: 0.0578 - val_loss: 1.0836 - val_accuracy: 0.0516\n",
      "Epoch 18/40\n",
      "33/33 [==============================] - 0s 7ms/step - loss: 1.0804 - accuracy: 0.0578 - val_loss: 1.0874 - val_accuracy: 0.0516\n",
      "Epoch 19/40\n",
      "33/33 [==============================] - 0s 6ms/step - loss: 1.0728 - accuracy: 0.0578 - val_loss: 1.0854 - val_accuracy: 0.0516\n",
      "Epoch 20/40\n",
      "33/33 [==============================] - 0s 5ms/step - loss: 1.0763 - accuracy: 0.0578 - val_loss: 1.0837 - val_accuracy: 0.0516\n",
      "Epoch 21/40\n",
      "33/33 [==============================] - 0s 6ms/step - loss: 1.0711 - accuracy: 0.0578 - val_loss: 1.0958 - val_accuracy: 0.0516\n",
      "Epoch 22/40\n",
      "33/33 [==============================] - 0s 6ms/step - loss: 1.0671 - accuracy: 0.0578 - val_loss: 1.0987 - val_accuracy: 0.0516\n",
      "Epoch 23/40\n",
      "33/33 [==============================] - 0s 6ms/step - loss: 1.0670 - accuracy: 0.0578 - val_loss: 1.0830 - val_accuracy: 0.0516\n",
      "Epoch 24/40\n",
      "33/33 [==============================] - 0s 6ms/step - loss: 1.0627 - accuracy: 0.0578 - val_loss: 1.0852 - val_accuracy: 0.0516\n",
      "Epoch 25/40\n",
      "33/33 [==============================] - 0s 6ms/step - loss: 1.0616 - accuracy: 0.0578 - val_loss: 1.0875 - val_accuracy: 0.0516\n",
      "Epoch 26/40\n",
      "33/33 [==============================] - 0s 6ms/step - loss: 1.0601 - accuracy: 0.0578 - val_loss: 1.0880 - val_accuracy: 0.0516\n",
      "Epoch 27/40\n",
      "33/33 [==============================] - 0s 6ms/step - loss: 1.0579 - accuracy: 0.0578 - val_loss: 1.0888 - val_accuracy: 0.0516\n",
      "Epoch 28/40\n",
      "33/33 [==============================] - 0s 6ms/step - loss: 1.0560 - accuracy: 0.0578 - val_loss: 1.1014 - val_accuracy: 0.0516\n",
      "Epoch 29/40\n",
      "33/33 [==============================] - 0s 6ms/step - loss: 1.0503 - accuracy: 0.0578 - val_loss: 1.0870 - val_accuracy: 0.0516\n",
      "Epoch 30/40\n",
      "33/33 [==============================] - 0s 6ms/step - loss: 1.0459 - accuracy: 0.0578 - val_loss: 1.0888 - val_accuracy: 0.0516\n",
      "Epoch 31/40\n",
      "33/33 [==============================] - 0s 6ms/step - loss: 1.0474 - accuracy: 0.0578 - val_loss: 1.1077 - val_accuracy: 0.0516\n",
      "Epoch 32/40\n",
      "33/33 [==============================] - 0s 5ms/step - loss: 1.0447 - accuracy: 0.0578 - val_loss: 1.0957 - val_accuracy: 0.0516\n",
      "Epoch 33/40\n",
      "33/33 [==============================] - 0s 6ms/step - loss: 1.0367 - accuracy: 0.0578 - val_loss: 1.0949 - val_accuracy: 0.0516\n",
      "Epoch 34/40\n",
      "33/33 [==============================] - 0s 6ms/step - loss: 1.0360 - accuracy: 0.0578 - val_loss: 1.0947 - val_accuracy: 0.0516\n",
      "Epoch 35/40\n",
      "33/33 [==============================] - 0s 6ms/step - loss: 1.0304 - accuracy: 0.0578 - val_loss: 1.0945 - val_accuracy: 0.0516\n",
      "Epoch 36/40\n",
      "33/33 [==============================] - 0s 6ms/step - loss: 1.0280 - accuracy: 0.0578 - val_loss: 1.0986 - val_accuracy: 0.0516\n",
      "Epoch 37/40\n",
      "33/33 [==============================] - 0s 6ms/step - loss: 1.0280 - accuracy: 0.0578 - val_loss: 1.1017 - val_accuracy: 0.0516\n",
      "Epoch 38/40\n",
      "33/33 [==============================] - 0s 6ms/step - loss: 1.0195 - accuracy: 0.0578 - val_loss: 1.1018 - val_accuracy: 0.0516\n",
      "Epoch 39/40\n",
      "33/33 [==============================] - 0s 6ms/step - loss: 1.0129 - accuracy: 0.0578 - val_loss: 1.1096 - val_accuracy: 0.0516\n",
      "Epoch 40/40\n",
      "33/33 [==============================] - 0s 6ms/step - loss: 1.0099 - accuracy: 0.0578 - val_loss: 1.1750 - val_accuracy: 0.0516\n"
     ]
    }
   ],
   "source": [
    "history = model.fit(train_data,\n",
    "                    train_labels,\n",
    "                    epochs=40,\n",
    "                    batch_size=512,\n",
    "                    validation_data=(val_data, val_labels),\n",
    "                    verbose=1)"
   ]
  },
  {
   "cell_type": "code",
   "execution_count": 13,
   "metadata": {},
   "outputs": [
    {
     "name": "stdout",
     "output_type": "stream",
     "text": [
      "172/172 - 0s - loss: 1.1750 - accuracy: 0.0516 - 427ms/epoch - 2ms/step\n",
      "[1.1750140190124512, 0.051595259457826614]\n"
     ]
    }
   ],
   "source": [
    "results = model.evaluate(val_data,  val_labels, verbose=2)\n",
    "\n",
    "print(results)"
   ]
  },
  {
   "cell_type": "code",
   "execution_count": 14,
   "metadata": {},
   "outputs": [
    {
     "data": {
      "text/plain": [
       "dict_keys(['loss', 'accuracy', 'val_loss', 'val_accuracy'])"
      ]
     },
     "execution_count": 14,
     "metadata": {},
     "output_type": "execute_result"
    }
   ],
   "source": [
    "history_dict = history.history\n",
    "history_dict.keys()"
   ]
  },
  {
   "cell_type": "code",
   "execution_count": 15,
   "metadata": {},
   "outputs": [
    {
     "data": {
      "image/png": "[encoded data removed]",
      "text/plain": [
       "<Figure size 432x288 with 1 Axes>"
      ]
     },
     "metadata": {
      "needs_background": "light"
     },
     "output_type": "display_data"
    }
   ],
   "source": [
    "acc = history_dict['accuracy']\n",
    "val_acc = history_dict['val_accuracy']\n",
    "loss = history_dict['loss']\n",
    "val_loss = history_dict['val_loss']\n",
    "\n",
    "epochs = range(1, len(acc) + 1)\n",
    "\n",
    "plt.plot(epochs, loss, 'bo', label='Training loss')\n",
    "plt.plot(epochs, val_loss, 'b', label='Validation loss')\n",
    "plt.title('Training and validation loss')\n",
    "plt.xlabel('Epochs')\n",
    "plt.ylabel('Loss')\n",
    "plt.legend()\n",
    "\n",
    "plt.show()"
   ]
  }
 ],
 "metadata": {
  "interpreter": {
   "hash": "798719e834ce2667b284169792ed9be744f500b1bbad4a58ecba241c6661f77e"
  },
  "kernelspec": {
   "display_name": "Python 3.7.13 ('news')",
   "language": "python",
   "name": "python3"
  },
  "language_info": {
   "codemirror_mode": {
    "name": "ipython",
    "version": 3
   },
   "file_extension": ".py",
   "mimetype": "text/x-python",
   "name": "python",
   "nbconvert_exporter": "python",
   "pygments_lexer": "ipython3",
   "version": "3.7.13"
  },
  "orig_nbformat": 4
 },
 "nbformat": 4,
 "nbformat_minor": 2
}
