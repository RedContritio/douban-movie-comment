{
 "cells": [
  {
   "cell_type": "code",
   "execution_count": 1,
   "metadata": {},
   "outputs": [],
   "source": [
    "import numpy as np\n",
    "import pandas as pd\n",
    "import random\n",
    "import jieba\n",
    "import os\n",
    "import pickle\n",
    "import tensorflow as tf\n",
    "from tensorflow import keras\n",
    "from utils import DATA_TEXT_SEQUENCES_PATH, DATA_LABELS_PATH\n",
    "from utils import DATA_W2V_VECTOR_PATH, DATA_W2V_META_PATH\n",
    "from utils import CustomIterator\n",
    "\n",
    "import matplotlib.pyplot as plt"
   ]
  },
  {
   "cell_type": "code",
   "execution_count": 2,
   "metadata": {},
   "outputs": [
    {
     "name": "stdout",
     "output_type": "stream",
     "text": [
      "4 Physical GPUs, 4 Logical GPUs\n"
     ]
    },
    {
     "name": "stderr",
     "output_type": "stream",
     "text": [
      "2022-04-06 22:04:26.539887: I tensorflow/core/platform/cpu_feature_guard.cc:151] This TensorFlow binary is optimized with oneAPI Deep Neural Network Library (oneDNN) to use the following CPU instructions in performance-critical operations:  AVX2 AVX512F FMA\n",
      "To enable them in other operations, rebuild TensorFlow with the appropriate compiler flags.\n",
      "2022-04-06 22:04:28.806215: I tensorflow/core/common_runtime/gpu/gpu_device.cc:1525] Created device /job:localhost/replica:0/task:0/device:GPU:0 with 559 MB memory:  -> device: 0, name: NVIDIA GeForce RTX 3080 Ti, pci bus id: 0000:18:00.0, compute capability: 8.6\n",
      "2022-04-06 22:04:28.807261: I tensorflow/core/common_runtime/gpu/gpu_device.cc:1525] Created device /job:localhost/replica:0/task:0/device:GPU:1 with 8139 MB memory:  -> device: 1, name: NVIDIA GeForce RTX 3080 Ti, pci bus id: 0000:3b:00.0, compute capability: 8.6\n",
      "2022-04-06 22:04:28.808018: I tensorflow/core/common_runtime/gpu/gpu_device.cc:1525] Created device /job:localhost/replica:0/task:0/device:GPU:2 with 1550 MB memory:  -> device: 2, name: NVIDIA GeForce RTX 3080 Ti, pci bus id: 0000:86:00.0, compute capability: 8.6\n",
      "2022-04-06 22:04:28.808923: I tensorflow/core/common_runtime/gpu/gpu_device.cc:1525] Created device /job:localhost/replica:0/task:0/device:GPU:3 with 9276 MB memory:  -> device: 3, name: NVIDIA GeForce RTX 3080 Ti, pci bus id: 0000:af:00.0, compute capability: 8.6\n"
     ]
    }
   ],
   "source": [
    "gpus = tf.config.experimental.list_physical_devices('GPU')\n",
    "if gpus:\n",
    "    try:\n",
    "        # Currently, memory growth needs to be the same across GPUs\n",
    "        for gpu in gpus:\n",
    "            tf.config.experimental.set_memory_growth(gpu, True)\n",
    "        logical_gpus = tf.config.experimental.list_logical_devices('GPU')\n",
    "        print(len(gpus), \"Physical GPUs,\", len(logical_gpus), \"Logical GPUs\")\n",
    "    except RuntimeError as e:\n",
    "        # Memory growth must be set before GPUs have been initialized\n",
    "        print(e)"
   ]
  },
  {
   "cell_type": "code",
   "execution_count": 3,
   "metadata": {},
   "outputs": [
    {
     "name": "stdout",
     "output_type": "stream",
     "text": [
      "['看到', '影片', '开头', ' ', '华谊', '兄弟', '几个', '字', '的', '时候', ' ', '我', '就', '心里有数', '了', '…', '…', '果然', '…', '..']\n",
      "[62, 308, 311, 2, 24, 412, 404, 329, 5, 266, 2, 37, 10, 302, 6, 16, 16, 245, 16, 2]\n"
     ]
    }
   ],
   "source": [
    "with open(DATA_W2V_VECTOR_PATH, 'r') as vf:\n",
    "    with open(DATA_W2V_META_PATH, 'r') as mf:\n",
    "        w2v_vector = np.loadtxt(vf)\n",
    "        w2v_meta = pd.read_csv(mf, sep='\\t', header=None)\n",
    "\n",
    "word2index = dict([(row[0], idx + 3) for idx, row in w2v_meta.iterrows()])\n",
    "word2index['<PAD>'] = 0\n",
    "word2index['<START>'] = 1\n",
    "word2index['<UNK>'] = 2\n",
    "word2index['<UNUSED>'] = 3\n",
    "\n",
    "index2word = dict([(i, w) for w, i in word2index.items()])\n",
    "\n",
    "def decode_review(seq):\n",
    "    return ' '.join([index2word.get(i, '?') for i in seq])\n",
    "\n",
    "def encode_review(words):\n",
    "    return [word2index.get(w, 2) for w in words]\n",
    "\n",
    "\n",
    "text_sequences = pickle.load(open(DATA_TEXT_SEQUENCES_PATH, 'rb'))\n",
    "labels = pickle.load(open(DATA_LABELS_PATH, 'rb'))\n",
    "\n",
    "print(text_sequences[0])\n",
    "print(encode_review(text_sequences[0]))\n",
    "# print(decode_review(sequences[0]))"
   ]
  },
  {
   "cell_type": "code",
   "execution_count": 4,
   "metadata": {},
   "outputs": [
    {
     "name": "stdout",
     "output_type": "stream",
     "text": [
      "(489, 128) 489 128\n"
     ]
    }
   ],
   "source": [
    "vocab_size = len(word2index) + 3\n",
    "vector_length = len(w2v_vector[0])\n",
    "\n",
    "embeddings_matrix = np.array([np.zeros(vector_length) for _ in range(3)] + [w2v_vector[i - 3] for w, i in word2index.items()])\n",
    "\n",
    "print(embeddings_matrix.shape, vocab_size, vector_length)\n",
    "\n",
    "# embeddings_matrix = embeddings_matrix.tolist()"
   ]
  },
  {
   "cell_type": "code",
   "execution_count": 5,
   "metadata": {},
   "outputs": [],
   "source": [
    "assert(len(text_sequences) == len(labels))\n",
    "\n",
    "val_size = 0.25\n",
    "\n",
    "idx = list(range(len(labels)))\n",
    "\n",
    "random.shuffle(idx)\n",
    "\n",
    "dataset_train_idx, dataset_val_idx = idx[int(val_size * len(idx)):], idx[:int(val_size * len(idx))]\n",
    "\n",
    "train_data = [[word2index.get(w, 0) for w in text_sequences[i]] for i in dataset_train_idx]\n",
    "val_data = [[word2index.get(w, 0) for w in text_sequences[i]] for i in dataset_val_idx]\n",
    "\n",
    "train_labels = [labels[i] for i in dataset_train_idx]\n",
    "val_labels = [labels[i] for i in dataset_val_idx]"
   ]
  },
  {
   "cell_type": "code",
   "execution_count": 6,
   "metadata": {},
   "outputs": [],
   "source": [
    "MAX_SEQUENCE_LENGTH = 256\n",
    "\n",
    "train_data = keras.preprocessing.sequence.pad_sequences(train_data,\n",
    "                                                        value=word2index[\"<PAD>\"],\n",
    "                                                        padding='post',\n",
    "                                                        maxlen=MAX_SEQUENCE_LENGTH)\n",
    "\n",
    "val_data = keras.preprocessing.sequence.pad_sequences(val_data,\n",
    "                                                      value=word2index[\"<PAD>\"],\n",
    "                                                      padding='post',\n",
    "                                                      maxlen=MAX_SEQUENCE_LENGTH)"
   ]
  },
  {
   "cell_type": "code",
   "execution_count": 7,
   "metadata": {},
   "outputs": [],
   "source": [
    "\n",
    "train_data = np.array(train_data).astype(np.int32)\n",
    "val_data = np.array(val_data).astype(np.int32)\n",
    "\n",
    "train_labels = np.array(train_labels).astype(np.float32)\n",
    "val_labels = np.array(val_labels).astype(np.float32)"
   ]
  },
  {
   "cell_type": "code",
   "execution_count": 8,
   "metadata": {},
   "outputs": [
    {
     "name": "stdout",
     "output_type": "stream",
     "text": [
      "[468   0   0 467 312 407 147 281  32  75   4 186 304 214 410  42  20   4\n",
      " 402 182  14 207 419 203 408   5 179 247 185 323  12   0   0   0   0   0\n",
      "   0   0   0   0   0   0   0   0   0   0   0   0   0   0   0   0   0   0\n",
      "   0   0   0   0   0   0   0   0   0   0   0   0   0   0   0   0   0   0\n",
      "   0   0   0   0   0   0   0   0   0   0   0   0   0   0   0   0   0   0\n",
      "   0   0   0   0   0   0   0   0   0   0   0   0   0   0   0   0   0   0\n",
      "   0   0   0   0   0   0   0   0   0   0   0   0   0   0   0   0   0   0\n",
      "   0   0   0   0   0   0   0   0   0   0   0   0   0   0   0   0   0   0\n",
      "   0   0   0   0   0   0   0   0   0   0   0   0   0   0   0   0   0   0\n",
      "   0   0   0   0   0   0   0   0   0   0   0   0   0   0   0   0   0   0\n",
      "   0   0   0   0   0   0   0   0   0   0   0   0   0   0   0   0   0   0\n",
      "   0   0   0   0   0   0   0   0   0   0   0   0   0   0   0   0   0   0\n",
      "   0   0   0   0   0   0   0   0   0   0   0   0   0   0   0   0   0   0\n",
      "   0   0   0   0   0   0   0   0   0   0   0   0   0   0   0   0   0   0\n",
      "   0   0   0   0]\n"
     ]
    }
   ],
   "source": [
    "print(train_data[0])"
   ]
  },
  {
   "cell_type": "code",
   "execution_count": 9,
   "metadata": {},
   "outputs": [
    {
     "name": "stdout",
     "output_type": "stream",
     "text": [
      "[2. 2. 3. 3. 1. 1. 4. 3. 4. 3. 2. 1. 4. 1. 1.]\n"
     ]
    }
   ],
   "source": [
    "print(train_labels)"
   ]
  },
  {
   "cell_type": "markdown",
   "metadata": {},
   "source": [
    "## Train"
   ]
  },
  {
   "cell_type": "code",
   "execution_count": 10,
   "metadata": {},
   "outputs": [
    {
     "name": "stdout",
     "output_type": "stream",
     "text": [
      "Model: \"sequential\"\n",
      "_________________________________________________________________\n",
      " Layer (type)                Output Shape              Param #   \n",
      "=================================================================\n",
      " embedding (Embedding)       (None, 256, 128)          62592     \n",
      "                                                                 \n",
      " global_average_pooling1d (G  (None, 128)              0         \n",
      " lobalAveragePooling1D)                                          \n",
      "                                                                 \n",
      " dense (Dense)               (None, 512)               66048     \n",
      "                                                                 \n",
      " dense_1 (Dense)             (None, 64)                32832     \n",
      "                                                                 \n",
      " dense_2 (Dense)             (None, 1)                 65        \n",
      "                                                                 \n",
      "=================================================================\n",
      "Total params: 161,537\n",
      "Trainable params: 98,945\n",
      "Non-trainable params: 62,592\n",
      "_________________________________________________________________\n"
     ]
    }
   ],
   "source": [
    "model = keras.Sequential()\n",
    "\n",
    "embedding_layer = keras.layers.Embedding(vocab_size,\n",
    "                            vector_length, \n",
    "                            weights=[embeddings_matrix],\n",
    "                            input_length=MAX_SEQUENCE_LENGTH,\n",
    "                            trainable=False\n",
    "                            )\n",
    "\n",
    "\n",
    "model.add(embedding_layer)\n",
    "model.add(keras.layers.GlobalAveragePooling1D())\n",
    "# model.add(keras.layers.Dense(vector_length, activation='relu'))\n",
    "model.add(keras.layers.Dense(512, activation='relu'))\n",
    "model.add(keras.layers.Dense(64, activation='relu'))\n",
    "model.add(keras.layers.Dense(1))\n",
    "\n",
    "model.summary()"
   ]
  },
  {
   "cell_type": "code",
   "execution_count": 11,
   "metadata": {},
   "outputs": [],
   "source": [
    "model.compile(optimizer='adam',\n",
    "              loss='mean_squared_error',\n",
    "              metrics=['accuracy'])"
   ]
  },
  {
   "cell_type": "code",
   "execution_count": 12,
   "metadata": {},
   "outputs": [
    {
     "name": "stdout",
     "output_type": "stream",
     "text": [
      "Epoch 1/40\n",
      "1/1 [==============================] - 2s 2s/step - loss: 6.7413 - accuracy: 0.0000e+00 - val_loss: 1.7186 - val_accuracy: 0.0000e+00\n",
      "Epoch 2/40\n",
      "1/1 [==============================] - ETA: 0s - loss: 6.6685 - accuracy: 0.0000e+00"
     ]
    },
    {
     "name": "stderr",
     "output_type": "stream",
     "text": [
      "2022-04-06 22:04:33.694958: I tensorflow/stream_executor/cuda/cuda_blas.cc:1786] TensorFloat-32 will be used for the matrix multiplication. This will only be logged once.\n"
     ]
    },
    {
     "name": "stdout",
     "output_type": "stream",
     "text": [
      "1/1 [==============================] - 0s 37ms/step - loss: 6.6685 - accuracy: 0.0000e+00 - val_loss: 1.6827 - val_accuracy: 0.0000e+00\n",
      "Epoch 3/40\n",
      "1/1 [==============================] - 0s 37ms/step - loss: 6.5965 - accuracy: 0.0000e+00 - val_loss: 1.6432 - val_accuracy: 0.0000e+00\n",
      "Epoch 4/40\n",
      "1/1 [==============================] - 0s 36ms/step - loss: 6.5162 - accuracy: 0.0000e+00 - val_loss: 1.6001 - val_accuracy: 0.0000e+00\n",
      "Epoch 5/40\n",
      "1/1 [==============================] - 0s 37ms/step - loss: 6.4280 - accuracy: 0.0000e+00 - val_loss: 1.5532 - val_accuracy: 0.0000e+00\n",
      "Epoch 6/40\n",
      "1/1 [==============================] - 0s 35ms/step - loss: 6.3315 - accuracy: 0.0000e+00 - val_loss: 1.5025 - val_accuracy: 0.0000e+00\n",
      "Epoch 7/40\n",
      "1/1 [==============================] - 0s 35ms/step - loss: 6.2262 - accuracy: 0.0000e+00 - val_loss: 1.4479 - val_accuracy: 0.0000e+00\n",
      "Epoch 8/40\n",
      "1/1 [==============================] - 0s 40ms/step - loss: 6.1119 - accuracy: 0.0000e+00 - val_loss: 1.3892 - val_accuracy: 0.0000e+00\n",
      "Epoch 9/40\n",
      "1/1 [==============================] - 0s 38ms/step - loss: 5.9881 - accuracy: 0.0000e+00 - val_loss: 1.3267 - val_accuracy: 0.0000e+00\n",
      "Epoch 10/40\n",
      "1/1 [==============================] - 0s 36ms/step - loss: 5.8544 - accuracy: 0.0000e+00 - val_loss: 1.2606 - val_accuracy: 0.0000e+00\n",
      "Epoch 11/40\n",
      "1/1 [==============================] - 0s 40ms/step - loss: 5.7110 - accuracy: 0.0000e+00 - val_loss: 1.1913 - val_accuracy: 0.0000e+00\n",
      "Epoch 12/40\n",
      "1/1 [==============================] - 0s 36ms/step - loss: 5.5581 - accuracy: 0.0000e+00 - val_loss: 1.1192 - val_accuracy: 0.0000e+00\n",
      "Epoch 13/40\n",
      "1/1 [==============================] - 0s 37ms/step - loss: 5.3957 - accuracy: 0.0000e+00 - val_loss: 1.0445 - val_accuracy: 0.0000e+00\n",
      "Epoch 14/40\n",
      "1/1 [==============================] - 0s 35ms/step - loss: 5.2244 - accuracy: 0.0000e+00 - val_loss: 0.9680 - val_accuracy: 0.0000e+00\n",
      "Epoch 15/40\n",
      "1/1 [==============================] - 0s 34ms/step - loss: 5.0444 - accuracy: 0.0000e+00 - val_loss: 0.8900 - val_accuracy: 0.0000e+00\n",
      "Epoch 16/40\n",
      "1/1 [==============================] - 0s 33ms/step - loss: 4.8559 - accuracy: 0.0000e+00 - val_loss: 0.8114 - val_accuracy: 0.0000e+00\n",
      "Epoch 17/40\n",
      "1/1 [==============================] - 0s 35ms/step - loss: 4.6598 - accuracy: 0.0667 - val_loss: 0.7328 - val_accuracy: 0.7500\n",
      "Epoch 18/40\n",
      "1/1 [==============================] - 0s 37ms/step - loss: 4.4565 - accuracy: 0.3333 - val_loss: 0.6552 - val_accuracy: 0.7500\n",
      "Epoch 19/40\n",
      "1/1 [==============================] - 0s 38ms/step - loss: 4.2469 - accuracy: 0.3333 - val_loss: 0.5796 - val_accuracy: 0.7500\n",
      "Epoch 20/40\n",
      "1/1 [==============================] - 0s 38ms/step - loss: 4.0319 - accuracy: 0.3333 - val_loss: 0.5073 - val_accuracy: 0.7500\n",
      "Epoch 21/40\n",
      "1/1 [==============================] - 0s 36ms/step - loss: 3.8126 - accuracy: 0.3333 - val_loss: 0.4394 - val_accuracy: 0.7500\n",
      "Epoch 22/40\n",
      "1/1 [==============================] - 0s 38ms/step - loss: 3.5905 - accuracy: 0.3333 - val_loss: 0.3775 - val_accuracy: 0.7500\n",
      "Epoch 23/40\n",
      "1/1 [==============================] - 0s 37ms/step - loss: 3.3670 - accuracy: 0.3333 - val_loss: 0.3231 - val_accuracy: 0.7500\n",
      "Epoch 24/40\n",
      "1/1 [==============================] - 0s 34ms/step - loss: 3.1439 - accuracy: 0.3333 - val_loss: 0.2779 - val_accuracy: 0.7500\n",
      "Epoch 25/40\n",
      "1/1 [==============================] - 0s 35ms/step - loss: 2.9233 - accuracy: 0.3333 - val_loss: 0.2438 - val_accuracy: 0.7500\n",
      "Epoch 26/40\n",
      "1/1 [==============================] - 0s 36ms/step - loss: 2.7071 - accuracy: 0.3333 - val_loss: 0.2227 - val_accuracy: 0.7500\n",
      "Epoch 27/40\n",
      "1/1 [==============================] - 0s 37ms/step - loss: 2.4977 - accuracy: 0.3333 - val_loss: 0.2163 - val_accuracy: 0.7500\n",
      "Epoch 28/40\n",
      "1/1 [==============================] - 0s 39ms/step - loss: 2.2976 - accuracy: 0.3333 - val_loss: 0.2267 - val_accuracy: 0.7500\n",
      "Epoch 29/40\n",
      "1/1 [==============================] - 0s 36ms/step - loss: 2.1093 - accuracy: 0.3333 - val_loss: 0.2556 - val_accuracy: 0.7500\n",
      "Epoch 30/40\n",
      "1/1 [==============================] - 0s 42ms/step - loss: 1.9353 - accuracy: 0.3333 - val_loss: 0.3045 - val_accuracy: 0.7500\n",
      "Epoch 31/40\n",
      "1/1 [==============================] - 0s 38ms/step - loss: 1.7782 - accuracy: 0.3333 - val_loss: 0.3746 - val_accuracy: 0.7500\n",
      "Epoch 32/40\n",
      "1/1 [==============================] - 0s 38ms/step - loss: 1.6403 - accuracy: 0.3333 - val_loss: 0.4666 - val_accuracy: 0.7500\n",
      "Epoch 33/40\n",
      "1/1 [==============================] - 0s 36ms/step - loss: 1.5238 - accuracy: 0.3333 - val_loss: 0.5803 - val_accuracy: 0.7500\n",
      "Epoch 34/40\n",
      "1/1 [==============================] - 0s 36ms/step - loss: 1.4300 - accuracy: 0.3333 - val_loss: 0.7146 - val_accuracy: 0.7500\n",
      "Epoch 35/40\n",
      "1/1 [==============================] - 0s 39ms/step - loss: 1.3600 - accuracy: 0.3333 - val_loss: 0.8670 - val_accuracy: 0.7500\n",
      "Epoch 36/40\n",
      "1/1 [==============================] - 0s 43ms/step - loss: 1.3137 - accuracy: 0.3333 - val_loss: 1.0336 - val_accuracy: 0.7500\n",
      "Epoch 37/40\n",
      "1/1 [==============================] - 0s 37ms/step - loss: 1.2896 - accuracy: 0.3333 - val_loss: 1.2091 - val_accuracy: 0.7500\n",
      "Epoch 38/40\n",
      "1/1 [==============================] - 0s 36ms/step - loss: 1.2854 - accuracy: 0.3333 - val_loss: 1.3866 - val_accuracy: 0.7500\n",
      "Epoch 39/40\n",
      "1/1 [==============================] - 0s 37ms/step - loss: 1.2971 - accuracy: 0.3333 - val_loss: 1.5581 - val_accuracy: 0.7500\n",
      "Epoch 40/40\n",
      "1/1 [==============================] - 0s 37ms/step - loss: 1.3199 - accuracy: 0.3333 - val_loss: 1.7154 - val_accuracy: 0.7500\n"
     ]
    }
   ],
   "source": [
    "history = model.fit(train_data,\n",
    "                    train_labels,\n",
    "                    epochs=40,\n",
    "                    batch_size=512,\n",
    "                    validation_data=(val_data, val_labels),\n",
    "                    verbose=1)"
   ]
  },
  {
   "cell_type": "code",
   "execution_count": 13,
   "metadata": {},
   "outputs": [
    {
     "name": "stdout",
     "output_type": "stream",
     "text": [
      "1/1 - 0s - loss: 1.7154 - accuracy: 0.7500 - 27ms/epoch - 27ms/step\n",
      "[1.7154066562652588, 0.75]\n"
     ]
    }
   ],
   "source": [
    "results = model.evaluate(val_data,  val_labels, verbose=2)\n",
    "\n",
    "print(results)"
   ]
  },
  {
   "cell_type": "code",
   "execution_count": 14,
   "metadata": {},
   "outputs": [
    {
     "data": {
      "text/plain": [
       "dict_keys(['loss', 'accuracy', 'val_loss', 'val_accuracy'])"
      ]
     },
     "execution_count": 14,
     "metadata": {},
     "output_type": "execute_result"
    }
   ],
   "source": [
    "history_dict = history.history\n",
    "history_dict.keys()"
   ]
  },
  {
   "cell_type": "code",
   "execution_count": 15,
   "metadata": {},
   "outputs": [
    {
     "data": {
      "image/png": "[encoded data removed]",
      "text/plain": [
       "<Figure size 432x288 with 1 Axes>"
      ]
     },
     "metadata": {
      "needs_background": "light"
     },
     "output_type": "display_data"
    }
   ],
   "source": [
    "acc = history_dict['accuracy']\n",
    "val_acc = history_dict['val_accuracy']\n",
    "loss = history_dict['loss']\n",
    "val_loss = history_dict['val_loss']\n",
    "\n",
    "epochs = range(1, len(acc) + 1)\n",
    "\n",
    "plt.plot(epochs, loss, 'bo', label='Training loss')\n",
    "plt.plot(epochs, val_loss, 'b', label='Validation loss')\n",
    "plt.title('Training and validation loss')\n",
    "plt.xlabel('Epochs')\n",
    "plt.ylabel('Loss')\n",
    "plt.legend()\n",
    "\n",
    "plt.show()"
   ]
  }
 ],
 "metadata": {
  "interpreter": {
   "hash": "798719e834ce2667b284169792ed9be744f500b1bbad4a58ecba241c6661f77e"
  },
  "kernelspec": {
   "display_name": "Python 3.7.13 ('news')",
   "language": "python",
   "name": "python3"
  },
  "language_info": {
   "codemirror_mode": {
    "name": "ipython",
    "version": 3
   },
   "file_extension": ".py",
   "mimetype": "text/x-python",
   "name": "python",
   "nbconvert_exporter": "python",
   "pygments_lexer": "ipython3",
   "version": "3.7.13"
  },
  "orig_nbformat": 4
 },
 "nbformat": 4,
 "nbformat_minor": 2
}
