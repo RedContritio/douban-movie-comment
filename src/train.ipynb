{
 "cells": [
  {
   "cell_type": "code",
   "execution_count": 1,
   "metadata": {},
   "outputs": [],
   "source": [
    "import numpy as np\n",
    "import pandas as pd\n",
    "import random\n",
    "import jieba\n",
    "import os\n",
    "import pickle\n",
    "import tensorflow as tf\n",
    "from tensorflow import keras\n",
    "from utils import DATA_TEXT_SEQUENCES_PATH, DATA_LABELS_PATH\n",
    "from utils import DATA_W2V_VECTOR_PATH, DATA_W2V_META_PATH\n",
    "from utils import CustomIterator\n",
    "\n",
    "import matplotlib.pyplot as plt"
   ]
  },
  {
   "cell_type": "code",
   "execution_count": 2,
   "metadata": {},
   "outputs": [
    {
     "name": "stdout",
     "output_type": "stream",
     "text": [
      "4 Physical GPUs, 4 Logical GPUs\n"
     ]
    },
    {
     "name": "stderr",
     "output_type": "stream",
     "text": [
      "2022-04-11 19:19:07.827582: I tensorflow/core/platform/cpu_feature_guard.cc:151] This TensorFlow binary is optimized with oneAPI Deep Neural Network Library (oneDNN) to use the following CPU instructions in performance-critical operations:  AVX2 AVX512F FMA\n",
      "To enable them in other operations, rebuild TensorFlow with the appropriate compiler flags.\n",
      "2022-04-11 19:19:10.161325: I tensorflow/core/common_runtime/gpu/gpu_device.cc:1525] Created device /job:localhost/replica:0/task:0/device:GPU:0 with 1408 MB memory:  -> device: 0, name: NVIDIA GeForce RTX 3080 Ti, pci bus id: 0000:18:00.0, compute capability: 8.6\n",
      "2022-04-11 19:19:10.162211: I tensorflow/core/common_runtime/gpu/gpu_device.cc:1525] Created device /job:localhost/replica:0/task:0/device:GPU:1 with 1628 MB memory:  -> device: 1, name: NVIDIA GeForce RTX 3080 Ti, pci bus id: 0000:3b:00.0, compute capability: 8.6\n",
      "2022-04-11 19:19:10.162957: I tensorflow/core/common_runtime/gpu/gpu_device.cc:1525] Created device /job:localhost/replica:0/task:0/device:GPU:2 with 650 MB memory:  -> device: 2, name: NVIDIA GeForce RTX 3080 Ti, pci bus id: 0000:86:00.0, compute capability: 8.6\n",
      "2022-04-11 19:19:10.163881: I tensorflow/core/common_runtime/gpu/gpu_device.cc:1525] Created device /job:localhost/replica:0/task:0/device:GPU:3 with 9687 MB memory:  -> device: 3, name: NVIDIA GeForce RTX 3080 Ti, pci bus id: 0000:af:00.0, compute capability: 8.6\n"
     ]
    }
   ],
   "source": [
    "gpus = tf.config.experimental.list_physical_devices('GPU')\n",
    "if gpus:\n",
    "    try:\n",
    "        # Currently, memory growth needs to be the same across GPUs\n",
    "        for gpu in gpus:\n",
    "            tf.config.experimental.set_memory_growth(gpu, True)\n",
    "        logical_gpus = tf.config.experimental.list_logical_devices('GPU')\n",
    "        print(len(gpus), \"Physical GPUs,\", len(logical_gpus), \"Logical GPUs\")\n",
    "    except RuntimeError as e:\n",
    "        # Memory growth must be set before GPUs have been initialized\n",
    "        print(e)"
   ]
  },
  {
   "cell_type": "code",
   "execution_count": 3,
   "metadata": {},
   "outputs": [
    {
     "name": "stdout",
     "output_type": "stream",
     "text": [
      "['标准', '美国', '科幻', '大片', '。', '参考', '影片', '《', '世界末日', ' ', 'Armageddon', ' ', '(', '1998', ')', '》']\n",
      "[1276, 258, 521, 1250, 6, 3912, 125, 23, 2, 2, 2, 2, 2, 2, 2, 24]\n"
     ]
    }
   ],
   "source": [
    "with open(DATA_W2V_VECTOR_PATH, 'r') as vf:\n",
    "    with open(DATA_W2V_META_PATH, 'r') as mf:\n",
    "        w2v_vector = np.loadtxt(vf)\n",
    "        w2v_meta = pd.read_csv(mf, sep='\\t', header=None)\n",
    "\n",
    "word2index = dict([(row[0], idx + 3) for idx, row in w2v_meta.iterrows()])\n",
    "word2index['<PAD>'] = 0\n",
    "word2index['<START>'] = 1\n",
    "word2index['<UNK>'] = 2\n",
    "word2index['<UNUSED>'] = 3\n",
    "\n",
    "index2word = dict([(i, w) for w, i in word2index.items()])\n",
    "\n",
    "def decode_review(seq):\n",
    "    return ' '.join([index2word.get(i, '?') for i in seq])\n",
    "\n",
    "def encode_review(words):\n",
    "    return [word2index.get(w, 2) for w in words]\n",
    "\n",
    "\n",
    "text_sequences = pickle.load(open(DATA_TEXT_SEQUENCES_PATH, 'rb'))\n",
    "labels = pickle.load(open(DATA_LABELS_PATH, 'rb'))\n",
    "\n",
    "print(text_sequences[0])\n",
    "print(encode_review(text_sequences[0]))\n",
    "# print(decode_review(sequences[0]))"
   ]
  },
  {
   "cell_type": "code",
   "execution_count": 4,
   "metadata": {},
   "outputs": [
    {
     "name": "stdout",
     "output_type": "stream",
     "text": [
      "(4102, 256) 4102 256\n"
     ]
    }
   ],
   "source": [
    "vocab_size = len(word2index) + 3\n",
    "vector_length = len(w2v_vector[0])\n",
    "\n",
    "embeddings_matrix = np.array([np.zeros(vector_length) for _ in range(3)] + [w2v_vector[i - 3] for w, i in word2index.items()])\n",
    "\n",
    "print(embeddings_matrix.shape, vocab_size, vector_length)\n",
    "\n",
    "# embeddings_matrix = embeddings_matrix.tolist()"
   ]
  },
  {
   "cell_type": "code",
   "execution_count": 5,
   "metadata": {},
   "outputs": [],
   "source": [
    "assert(len(text_sequences) == len(labels))\n",
    "\n",
    "val_size = 0.25\n",
    "\n",
    "idx = list(range(len(labels)))\n",
    "\n",
    "random.shuffle(idx)\n",
    "\n",
    "dataset_train_idx, dataset_val_idx = idx[int(val_size * len(idx)):], idx[:int(val_size * len(idx))]\n",
    "\n",
    "train_data = [[word2index.get(w, 0) for w in text_sequences[i]] for i in dataset_train_idx]\n",
    "val_data = [[word2index.get(w, 0) for w in text_sequences[i]] for i in dataset_val_idx]\n",
    "\n",
    "train_labels = [labels[i] for i in dataset_train_idx]\n",
    "val_labels = [labels[i] for i in dataset_val_idx]"
   ]
  },
  {
   "cell_type": "code",
   "execution_count": 6,
   "metadata": {},
   "outputs": [],
   "source": [
    "# MAX_SEQUENCE_LENGTH = 128\n",
    "MAX_SEQUENCE_LENGTH = 68\n",
    "\n",
    "train_data = keras.preprocessing.sequence.pad_sequences(train_data,\n",
    "                                                        value=word2index[\"<PAD>\"],\n",
    "                                                        padding='post',\n",
    "                                                        maxlen=MAX_SEQUENCE_LENGTH)\n",
    "\n",
    "val_data = keras.preprocessing.sequence.pad_sequences(val_data,\n",
    "                                                      value=word2index[\"<PAD>\"],\n",
    "                                                      padding='post',\n",
    "                                                      maxlen=MAX_SEQUENCE_LENGTH)"
   ]
  },
  {
   "cell_type": "code",
   "execution_count": 7,
   "metadata": {},
   "outputs": [],
   "source": [
    "\n",
    "train_data = np.array(train_data).astype(np.int32)\n",
    "val_data = np.array(val_data).astype(np.int32)\n",
    "\n",
    "train_labels = np.array(train_labels).astype(np.float32)\n",
    "val_labels = np.array(val_labels).astype(np.float32)"
   ]
  },
  {
   "cell_type": "code",
   "execution_count": 8,
   "metadata": {},
   "outputs": [
    {
     "name": "stdout",
     "output_type": "stream",
     "text": [
      "[1396    4 1046  735    5 2024 1250    4  243  562  452  372    5  858\n",
      "    6    0   15  629   40 1070    4 2509    8 2682  256    5    0 1183\n",
      "    4 3369    0   43   50  726  401    0   45   13    0    5 1240  116\n",
      "   35   39   14    5 3026 1559    6   31  200    8  540   41  220  105\n",
      "    5  157  437    5   14    7    4  363  651    0 1396   21]\n"
     ]
    }
   ],
   "source": [
    "print(train_data[0])"
   ]
  },
  {
   "cell_type": "code",
   "execution_count": 9,
   "metadata": {},
   "outputs": [
    {
     "name": "stdout",
     "output_type": "stream",
     "text": [
      "[4. 4. 3. ... 2. 3. 4.]\n"
     ]
    }
   ],
   "source": [
    "print(train_labels)"
   ]
  },
  {
   "cell_type": "markdown",
   "metadata": {},
   "source": [
    "## Train"
   ]
  },
  {
   "cell_type": "code",
   "execution_count": 10,
   "metadata": {},
   "outputs": [
    {
     "name": "stdout",
     "output_type": "stream",
     "text": [
      "Model: \"sequential\"\n",
      "_________________________________________________________________\n",
      " Layer (type)                Output Shape              Param #   \n",
      "=================================================================\n",
      " embedding (Embedding)       (None, 68, 256)           1050112   \n",
      "                                                                 \n",
      " global_average_pooling1d (G  (None, 256)              0         \n",
      " lobalAveragePooling1D)                                          \n",
      "                                                                 \n",
      " dense (Dense)               (None, 512)               131584    \n",
      "                                                                 \n",
      " dense_1 (Dense)             (None, 64)                32832     \n",
      "                                                                 \n",
      " dense_2 (Dense)             (None, 1)                 65        \n",
      "                                                                 \n",
      "=================================================================\n",
      "Total params: 1,214,593\n",
      "Trainable params: 164,481\n",
      "Non-trainable params: 1,050,112\n",
      "_________________________________________________________________\n"
     ]
    }
   ],
   "source": [
    "model = keras.Sequential()\n",
    "\n",
    "embedding_layer = keras.layers.Embedding(vocab_size,\n",
    "                            vector_length, \n",
    "                            weights=[embeddings_matrix],\n",
    "                            input_length=MAX_SEQUENCE_LENGTH,\n",
    "                            trainable=False\n",
    "                            )\n",
    "\n",
    "\n",
    "model.add(embedding_layer)\n",
    "model.add(keras.layers.GlobalAveragePooling1D())\n",
    "# model.add(keras.layers.Dense(vector_length, activation='relu'))\n",
    "model.add(keras.layers.Dense(512, activation='relu'))\n",
    "model.add(keras.layers.Dense(64, activation='relu'))\n",
    "model.add(keras.layers.Dense(1))\n",
    "\n",
    "model.summary()"
   ]
  },
  {
   "cell_type": "code",
   "execution_count": 11,
   "metadata": {},
   "outputs": [],
   "source": [
    "model.compile(optimizer='adam',\n",
    "              loss='mean_squared_error',\n",
    "              metrics=['accuracy'])"
   ]
  },
  {
   "cell_type": "code",
   "execution_count": 12,
   "metadata": {},
   "outputs": [
    {
     "name": "stdout",
     "output_type": "stream",
     "text": [
      "Epoch 1/20\n",
      "30/33 [==========================>...] - ETA: 0s - loss: 5.8747 - accuracy: 0.0403    "
     ]
    },
    {
     "name": "stderr",
     "output_type": "stream",
     "text": [
      "2022-04-11 19:19:14.060206: I tensorflow/stream_executor/cuda/cuda_blas.cc:1786] TensorFloat-32 will be used for the matrix multiplication. This will only be logged once.\n"
     ]
    },
    {
     "name": "stdout",
     "output_type": "stream",
     "text": [
      "33/33 [==============================] - 2s 11ms/step - loss: 5.7049 - accuracy: 0.0417 - val_loss: 3.1953 - val_accuracy: 0.0603\n",
      "Epoch 2/20\n",
      "33/33 [==============================] - 0s 5ms/step - loss: 2.3500 - accuracy: 0.0549 - val_loss: 1.4267 - val_accuracy: 0.0603\n",
      "Epoch 3/20\n",
      "33/33 [==============================] - 0s 5ms/step - loss: 1.1750 - accuracy: 0.0549 - val_loss: 1.1235 - val_accuracy: 0.0603\n",
      "Epoch 4/20\n",
      "33/33 [==============================] - 0s 5ms/step - loss: 1.0934 - accuracy: 0.0549 - val_loss: 1.1114 - val_accuracy: 0.0603\n",
      "Epoch 5/20\n",
      "33/33 [==============================] - 0s 5ms/step - loss: 1.0814 - accuracy: 0.0549 - val_loss: 1.1102 - val_accuracy: 0.0603\n",
      "Epoch 6/20\n",
      "33/33 [==============================] - 0s 5ms/step - loss: 1.0802 - accuracy: 0.0549 - val_loss: 1.1108 - val_accuracy: 0.0603\n",
      "Epoch 7/20\n",
      "33/33 [==============================] - 0s 5ms/step - loss: 1.0735 - accuracy: 0.0549 - val_loss: 1.1223 - val_accuracy: 0.0603\n",
      "Epoch 8/20\n",
      "33/33 [==============================] - 0s 5ms/step - loss: 1.0739 - accuracy: 0.0549 - val_loss: 1.1127 - val_accuracy: 0.0603\n",
      "Epoch 9/20\n",
      "33/33 [==============================] - 0s 5ms/step - loss: 1.0713 - accuracy: 0.0549 - val_loss: 1.1155 - val_accuracy: 0.0603\n",
      "Epoch 10/20\n",
      "33/33 [==============================] - 0s 6ms/step - loss: 1.0671 - accuracy: 0.0549 - val_loss: 1.1159 - val_accuracy: 0.0603\n",
      "Epoch 11/20\n",
      "33/33 [==============================] - 0s 5ms/step - loss: 1.0647 - accuracy: 0.0549 - val_loss: 1.1240 - val_accuracy: 0.0603\n",
      "Epoch 12/20\n",
      "33/33 [==============================] - 0s 5ms/step - loss: 1.0620 - accuracy: 0.0549 - val_loss: 1.1169 - val_accuracy: 0.0603\n",
      "Epoch 13/20\n",
      "33/33 [==============================] - 0s 5ms/step - loss: 1.0619 - accuracy: 0.0549 - val_loss: 1.1308 - val_accuracy: 0.0603\n",
      "Epoch 14/20\n",
      "33/33 [==============================] - 0s 5ms/step - loss: 1.0582 - accuracy: 0.0549 - val_loss: 1.1182 - val_accuracy: 0.0603\n",
      "Epoch 15/20\n",
      "33/33 [==============================] - 0s 6ms/step - loss: 1.0550 - accuracy: 0.0549 - val_loss: 1.1282 - val_accuracy: 0.0603\n",
      "Epoch 16/20\n",
      "33/33 [==============================] - 0s 5ms/step - loss: 1.0521 - accuracy: 0.0549 - val_loss: 1.1192 - val_accuracy: 0.0603\n",
      "Epoch 17/20\n",
      "33/33 [==============================] - 0s 5ms/step - loss: 1.0491 - accuracy: 0.0549 - val_loss: 1.1195 - val_accuracy: 0.0603\n",
      "Epoch 18/20\n",
      "33/33 [==============================] - 0s 5ms/step - loss: 1.0490 - accuracy: 0.0549 - val_loss: 1.1205 - val_accuracy: 0.0603\n",
      "Epoch 19/20\n",
      "33/33 [==============================] - 0s 5ms/step - loss: 1.0434 - accuracy: 0.0549 - val_loss: 1.1205 - val_accuracy: 0.0603\n",
      "Epoch 20/20\n",
      "33/33 [==============================] - 0s 5ms/step - loss: 1.0396 - accuracy: 0.0549 - val_loss: 1.1257 - val_accuracy: 0.0603\n"
     ]
    }
   ],
   "source": [
    "history = model.fit(train_data,\n",
    "                    train_labels,\n",
    "                    epochs=20,\n",
    "                    batch_size=512,\n",
    "                    validation_data=(val_data, val_labels),\n",
    "                    verbose=1)"
   ]
  },
  {
   "cell_type": "code",
   "execution_count": 13,
   "metadata": {},
   "outputs": [
    {
     "name": "stdout",
     "output_type": "stream",
     "text": [
      "172/172 - 0s - loss: 1.1257 - accuracy: 0.0603 - 405ms/epoch - 2ms/step\n",
      "[1.125712275505066, 0.06034639850258827]\n"
     ]
    }
   ],
   "source": [
    "results = model.evaluate(val_data,  val_labels, verbose=2)\n",
    "\n",
    "print(results)"
   ]
  },
  {
   "cell_type": "code",
   "execution_count": 14,
   "metadata": {},
   "outputs": [
    {
     "data": {
      "text/plain": [
       "dict_keys(['loss', 'accuracy', 'val_loss', 'val_accuracy'])"
      ]
     },
     "execution_count": 14,
     "metadata": {},
     "output_type": "execute_result"
    }
   ],
   "source": [
    "history_dict = history.history\n",
    "history_dict.keys()"
   ]
  },
  {
   "cell_type": "code",
   "execution_count": 15,
   "metadata": {},
   "outputs": [
    {
     "data": {
      "image/png": "[encoded data removed]",
      "text/plain": [
       "<Figure size 432x288 with 1 Axes>"
      ]
     },
     "metadata": {
      "needs_background": "light"
     },
     "output_type": "display_data"
    }
   ],
   "source": [
    "acc = history_dict['accuracy']\n",
    "val_acc = history_dict['val_accuracy']\n",
    "loss = history_dict['loss']\n",
    "val_loss = history_dict['val_loss']\n",
    "\n",
    "epochs = range(1, len(acc) + 1)\n",
    "\n",
    "plt.plot(epochs, loss, 'bo', label='Training loss')\n",
    "plt.plot(epochs, val_loss, 'b', label='Validation loss')\n",
    "plt.title('Training and validation loss')\n",
    "plt.xlabel('Epochs')\n",
    "plt.ylabel('Loss')\n",
    "plt.legend()\n",
    "\n",
    "plt.show()"
   ]
  }
 ],
 "metadata": {
  "interpreter": {
   "hash": "798719e834ce2667b284169792ed9be744f500b1bbad4a58ecba241c6661f77e"
  },
  "kernelspec": {
   "display_name": "Python 3.7.13 ('news')",
   "language": "python",
   "name": "python3"
  },
  "language_info": {
   "codemirror_mode": {
    "name": "ipython",
    "version": 3
   },
   "file_extension": ".py",
   "mimetype": "text/x-python",
   "name": "python",
   "nbconvert_exporter": "python",
   "pygments_lexer": "ipython3",
   "version": "3.7.13"
  },
  "orig_nbformat": 4
 },
 "nbformat": 4,
 "nbformat_minor": 2
}
